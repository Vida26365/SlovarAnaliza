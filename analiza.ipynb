{
 "cells": [
  {
   "cell_type": "markdown",
   "metadata": {},
   "source": [
    "Uvozimo pakete"
   ]
  },
  {
   "cell_type": "code",
   "execution_count": 1,
   "metadata": {},
   "outputs": [],
   "source": [
    "import main\n",
    "import pandas as pd\n",
    "# import spremenljivke\n",
    "from spremenljivke import *\n"
   ]
  },
  {
   "cell_type": "markdown",
   "metadata": {},
   "source": [
    "Pridobimo željene podatke"
   ]
  },
  {
   "cell_type": "code",
   "execution_count": 2,
   "metadata": {},
   "outputs": [
    {
     "name": "stdout",
     "output_type": "stream",
     "text": [
      "v procesu pridobivanja html-ja\n",
      "stran 1\n",
      "v procesu pridobivanja posatkov iz htmlja v csv\n",
      "končano\n"
     ]
    }
   ],
   "source": [
    "main.main(True, True, 1, 1)"
   ]
  },
  {
   "cell_type": "markdown",
   "metadata": {},
   "source": [
    "Poglejmo si razpredelnivco pridobljenih podatkov"
   ]
  },
  {
   "cell_type": "code",
   "execution_count": 3,
   "metadata": {},
   "outputs": [
    {
     "data": {
      "text/html": [
       "<div>\n",
       "<style scoped>\n",
       "    .dataframe tbody tr th:only-of-type {\n",
       "        vertical-align: middle;\n",
       "    }\n",
       "\n",
       "    .dataframe tbody tr th {\n",
       "        vertical-align: top;\n",
       "    }\n",
       "\n",
       "    .dataframe thead th {\n",
       "        text-align: right;\n",
       "    }\n",
       "</style>\n",
       "<table border=\"1\" class=\"dataframe\">\n",
       "  <thead>\n",
       "    <tr style=\"text-align: right;\">\n",
       "      <th></th>\n",
       "      <th>ime</th>\n",
       "      <th>oblika</th>\n",
       "      <th>vrsta</th>\n",
       "      <th>tonemski_naglas</th>\n",
       "    </tr>\n",
       "  </thead>\n",
       "  <tbody>\n",
       "    <tr>\n",
       "      <th>0</th>\n",
       "      <td>á</td>\n",
       "      <td>--</td>\n",
       "      <td>samostalnik moškega spola</td>\n",
       "      <td>ā</td>\n",
       "    </tr>\n",
       "    <tr>\n",
       "      <th>1</th>\n",
       "      <td>à</td>\n",
       "      <td>à</td>\n",
       "      <td>samostalnik moškega spola</td>\n",
       "      <td>ȃ</td>\n",
       "    </tr>\n",
       "    <tr>\n",
       "      <th>2</th>\n",
       "      <td>abalienácija</td>\n",
       "      <td>-e</td>\n",
       "      <td>samostalnik ženskega spola</td>\n",
       "      <td>á</td>\n",
       "    </tr>\n",
       "    <tr>\n",
       "      <th>3</th>\n",
       "      <td>abalienacíjski</td>\n",
       "      <td>-a -o</td>\n",
       "      <td>pridevnik</td>\n",
       "      <td>ȋ</td>\n",
       "    </tr>\n",
       "    <tr>\n",
       "      <th>4</th>\n",
       "      <td>abbé</td>\n",
       "      <td>-ja</td>\n",
       "      <td>samostalnik moškega spola</td>\n",
       "      <td>ẹ̑ ȇ</td>\n",
       "    </tr>\n",
       "    <tr>\n",
       "      <th>...</th>\n",
       "      <td>...</td>\n",
       "      <td>...</td>\n",
       "      <td>...</td>\n",
       "      <td>...</td>\n",
       "    </tr>\n",
       "    <tr>\n",
       "      <th>20637</th>\n",
       "      <td>adhezívnost</td>\n",
       "      <td>-i</td>\n",
       "      <td>samostalnik ženskega spola</td>\n",
       "      <td>ȋ</td>\n",
       "    </tr>\n",
       "    <tr>\n",
       "      <th>20638</th>\n",
       "      <td>ad hoc</td>\n",
       "      <td>-e</td>\n",
       "      <td>samostalnik ženskega spola</td>\n",
       "      <td>ȃ</td>\n",
       "    </tr>\n",
       "    <tr>\n",
       "      <th>20639</th>\n",
       "      <td>adiabáten</td>\n",
       "      <td>-tna -o</td>\n",
       "      <td>pridevnik</td>\n",
       "      <td>ȃ</td>\n",
       "    </tr>\n",
       "    <tr>\n",
       "      <th>20640</th>\n",
       "      <td>adiabátičen</td>\n",
       "      <td>-čna -o</td>\n",
       "      <td>pridevnik</td>\n",
       "      <td>á</td>\n",
       "    </tr>\n",
       "    <tr>\n",
       "      <th>20641</th>\n",
       "      <td>adícija</td>\n",
       "      <td>-e</td>\n",
       "      <td>samostalnik ženskega spola</td>\n",
       "      <td>í</td>\n",
       "    </tr>\n",
       "  </tbody>\n",
       "</table>\n",
       "<p>20642 rows × 4 columns</p>\n",
       "</div>"
      ],
      "text/plain": [
       "                  ime    oblika                       vrsta tonemski_naglas\n",
       "0                   á       --    samostalnik moškega spola               ā\n",
       "1                   à        à    samostalnik moškega spola               ȃ\n",
       "2        abalienácija       -e   samostalnik ženskega spola               á\n",
       "3      abalienacíjski    -a -o                    pridevnik               ȋ\n",
       "4                abbé      -ja    samostalnik moškega spola            ẹ̑ ȇ\n",
       "...               ...       ...                         ...             ...\n",
       "20637     adhezívnost       -i   samostalnik ženskega spola               ȋ\n",
       "20638          ad hoc       -e   samostalnik ženskega spola               ȃ\n",
       "20639       adiabáten  -tna -o                    pridevnik               ȃ\n",
       "20640     adiabátičen  -čna -o                    pridevnik               á\n",
       "20641         adícija       -e   samostalnik ženskega spola               í\n",
       "\n",
       "[20642 rows x 4 columns]"
      ]
     },
     "execution_count": 3,
     "metadata": {},
     "output_type": "execute_result"
    }
   ],
   "source": [
    "razpredelnica"
   ]
  },
  {
   "cell_type": "markdown",
   "metadata": {},
   "source": []
  },
  {
   "cell_type": "code",
   "execution_count": 28,
   "metadata": {},
   "outputs": [
    {
     "data": {
      "text/html": [
       "<div>\n",
       "<style scoped>\n",
       "    .dataframe tbody tr th:only-of-type {\n",
       "        vertical-align: middle;\n",
       "    }\n",
       "\n",
       "    .dataframe tbody tr th {\n",
       "        vertical-align: top;\n",
       "    }\n",
       "\n",
       "    .dataframe thead th {\n",
       "        text-align: right;\n",
       "    }\n",
       "</style>\n",
       "<table border=\"1\" class=\"dataframe\">\n",
       "  <thead>\n",
       "    <tr style=\"text-align: right;\">\n",
       "      <th></th>\n",
       "      <th>ime</th>\n",
       "    </tr>\n",
       "    <tr>\n",
       "      <th>vrsta</th>\n",
       "      <th></th>\n",
       "    </tr>\n",
       "  </thead>\n",
       "  <tbody>\n",
       "    <tr>\n",
       "      <th>dovršni glagol</th>\n",
       "      <td>269</td>\n",
       "    </tr>\n",
       "    <tr>\n",
       "      <th>dovršni in nedovršni glagol</th>\n",
       "      <td>380</td>\n",
       "    </tr>\n",
       "    <tr>\n",
       "      <th>nedovršni glagol</th>\n",
       "      <td>1012</td>\n",
       "    </tr>\n",
       "    <tr>\n",
       "      <th>pridevnik</th>\n",
       "      <td>5174</td>\n",
       "    </tr>\n",
       "    <tr>\n",
       "      <th>prislov</th>\n",
       "      <td>54</td>\n",
       "    </tr>\n",
       "    <tr>\n",
       "      <th>samostalnik moškega spola</th>\n",
       "      <td>6340</td>\n",
       "    </tr>\n",
       "    <tr>\n",
       "      <th>samostalnik srednjega spola</th>\n",
       "      <td>1552</td>\n",
       "    </tr>\n",
       "    <tr>\n",
       "      <th>samostalnik ženskega spola</th>\n",
       "      <td>5849</td>\n",
       "    </tr>\n",
       "    <tr>\n",
       "      <th>členek</th>\n",
       "      <td>12</td>\n",
       "    </tr>\n",
       "  </tbody>\n",
       "</table>\n",
       "</div>"
      ],
      "text/plain": [
       "                              ime\n",
       "vrsta                            \n",
       "dovršni glagol                269\n",
       "dovršni in nedovršni glagol   380\n",
       "nedovršni glagol             1012\n",
       "pridevnik                    5174\n",
       "prislov                        54\n",
       "samostalnik moškega spola    6340\n",
       "samostalnik srednjega spola  1552\n",
       "samostalnik ženskega spola   5849\n",
       "členek                         12"
      ]
     },
     "execution_count": 28,
     "metadata": {},
     "output_type": "execute_result"
    }
   ],
   "source": [
    "število_vrste = razpredelnica.groupby(\"vrsta\")[[\"ime\"]].agg(\"count\")\n",
    "število_vrste"
   ]
  },
  {
   "cell_type": "code",
   "execution_count": 55,
   "metadata": {},
   "outputs": [
    {
     "ename": "KeyError",
     "evalue": "\"None of ['vrsta'] are in the columns\"",
     "output_type": "error",
     "traceback": [
      "\u001b[1;31m---------------------------------------------------------------------------\u001b[0m",
      "\u001b[1;31mKeyError\u001b[0m                                  Traceback (most recent call last)",
      "\u001b[1;32m~\\AppData\\Local\\Temp\\ipykernel_13820\\2271285900.py\u001b[0m in \u001b[0;36m?\u001b[1;34m()\u001b[0m\n\u001b[0;32m     15\u001b[0m \u001b[1;33m\u001b[0m\u001b[0m\n\u001b[0;32m     16\u001b[0m \u001b[1;33m\u001b[0m\u001b[0m\n\u001b[0;32m     17\u001b[0m \u001b[1;33m\u001b[0m\u001b[0m\n\u001b[0;32m     18\u001b[0m     \u001b[1;32mreturn\u001b[0m \u001b[0mštevilo_vrste\u001b[0m\u001b[1;33m\u001b[0m\u001b[1;33m\u001b[0m\u001b[0m\n\u001b[1;32m---> 19\u001b[1;33m \u001b[0mštetje_vrst\u001b[0m\u001b[1;33m(\u001b[0m\u001b[0mrazpredelnica\u001b[0m\u001b[1;33m)\u001b[0m\u001b[1;33m\u001b[0m\u001b[1;33m\u001b[0m\u001b[0m\n\u001b[0m",
      "\u001b[1;32m~\\AppData\\Local\\Temp\\ipykernel_13820\\2271285900.py\u001b[0m in \u001b[0;36m?\u001b[1;34m(razpredelnica)\u001b[0m\n\u001b[0;32m      1\u001b[0m \u001b[1;32mdef\u001b[0m \u001b[0mštetje_vrst\u001b[0m\u001b[1;33m(\u001b[0m\u001b[0mrazpredelnica\u001b[0m\u001b[1;33m)\u001b[0m\u001b[1;33m:\u001b[0m\u001b[1;33m\u001b[0m\u001b[1;33m\u001b[0m\u001b[0m\n\u001b[0;32m      2\u001b[0m     \u001b[0mštevilo_vrste\u001b[0m \u001b[1;33m=\u001b[0m \u001b[0mrazpredelnica\u001b[0m\u001b[1;33m.\u001b[0m\u001b[0mgroupby\u001b[0m\u001b[1;33m(\u001b[0m\u001b[1;34m\"vrsta\"\u001b[0m\u001b[1;33m)\u001b[0m\u001b[1;33m[\u001b[0m\u001b[1;33m[\u001b[0m\u001b[1;34m\"ime\"\u001b[0m\u001b[1;33m]\u001b[0m\u001b[1;33m]\u001b[0m\u001b[1;33m.\u001b[0m\u001b[0magg\u001b[0m\u001b[1;33m(\u001b[0m\u001b[1;34m\"count\"\u001b[0m\u001b[1;33m)\u001b[0m\u001b[1;33m\u001b[0m\u001b[1;33m\u001b[0m\u001b[0m\n\u001b[0;32m      3\u001b[0m     \u001b[0mštevilo_vrste\u001b[0m\u001b[1;33m.\u001b[0m\u001b[0mrename\u001b[0m\u001b[1;33m(\u001b[0m\u001b[0mcolumns\u001b[0m\u001b[1;33m=\u001b[0m\u001b[1;33m{\u001b[0m\u001b[1;34m\"ime\"\u001b[0m\u001b[1;33m:\u001b[0m \u001b[1;34m\"število\"\u001b[0m\u001b[1;33m}\u001b[0m\u001b[1;33m,\u001b[0m \u001b[0minplace\u001b[0m\u001b[1;33m=\u001b[0m\u001b[1;32mTrue\u001b[0m\u001b[1;33m)\u001b[0m\u001b[1;33m\u001b[0m\u001b[1;33m\u001b[0m\u001b[0m\n\u001b[0;32m      4\u001b[0m     \u001b[1;31m# število_vrste.index.names = ['vrsta']\u001b[0m\u001b[1;33m\u001b[0m\u001b[1;33m\u001b[0m\u001b[0m\n\u001b[1;32m----> 5\u001b[1;33m     \u001b[0mštevilo_vrste\u001b[0m\u001b[1;33m.\u001b[0m\u001b[0mset_index\u001b[0m\u001b[1;33m(\u001b[0m\u001b[1;34m\"vrsta\"\u001b[0m\u001b[1;33m)\u001b[0m\u001b[1;33m\u001b[0m\u001b[1;33m\u001b[0m\u001b[0m\n\u001b[0m\u001b[0;32m      6\u001b[0m     \u001b[1;31m# število_vrste.loc[\"dovršni glagol\"] += število_vrste.loc[\"dovršni in nedovršni glagol\"]\u001b[0m\u001b[1;33m\u001b[0m\u001b[1;33m\u001b[0m\u001b[0m\n\u001b[0;32m      7\u001b[0m     \u001b[1;31m# število_vrste.loc[\"nedovršni glagol\"] += število_vrste.loc[\"dovršni in nedovršni glagol\"]\u001b[0m\u001b[1;33m\u001b[0m\u001b[1;33m\u001b[0m\u001b[0m\n\u001b[0;32m      8\u001b[0m     \u001b[1;31m# število_vrste.drop(\"dovršni in nedovršni glagol\", inplace=True)\u001b[0m\u001b[1;33m\u001b[0m\u001b[1;33m\u001b[0m\u001b[0m\n",
      "\u001b[1;32mc:\\Python310\\lib\\site-packages\\pandas\\core\\frame.py\u001b[0m in \u001b[0;36m?\u001b[1;34m(self, keys, drop, append, inplace, verify_integrity)\u001b[0m\n\u001b[0;32m   5869\u001b[0m                     \u001b[1;32mif\u001b[0m \u001b[1;32mnot\u001b[0m \u001b[0mfound\u001b[0m\u001b[1;33m:\u001b[0m\u001b[1;33m\u001b[0m\u001b[1;33m\u001b[0m\u001b[0m\n\u001b[0;32m   5870\u001b[0m                         \u001b[0mmissing\u001b[0m\u001b[1;33m.\u001b[0m\u001b[0mappend\u001b[0m\u001b[1;33m(\u001b[0m\u001b[0mcol\u001b[0m\u001b[1;33m)\u001b[0m\u001b[1;33m\u001b[0m\u001b[1;33m\u001b[0m\u001b[0m\n\u001b[0;32m   5871\u001b[0m \u001b[1;33m\u001b[0m\u001b[0m\n\u001b[0;32m   5872\u001b[0m         \u001b[1;32mif\u001b[0m \u001b[0mmissing\u001b[0m\u001b[1;33m:\u001b[0m\u001b[1;33m\u001b[0m\u001b[1;33m\u001b[0m\u001b[0m\n\u001b[1;32m-> 5873\u001b[1;33m             \u001b[1;32mraise\u001b[0m \u001b[0mKeyError\u001b[0m\u001b[1;33m(\u001b[0m\u001b[1;34mf\"None of {missing} are in the columns\"\u001b[0m\u001b[1;33m)\u001b[0m\u001b[1;33m\u001b[0m\u001b[1;33m\u001b[0m\u001b[0m\n\u001b[0m\u001b[0;32m   5874\u001b[0m \u001b[1;33m\u001b[0m\u001b[0m\n\u001b[0;32m   5875\u001b[0m         \u001b[1;32mif\u001b[0m \u001b[0minplace\u001b[0m\u001b[1;33m:\u001b[0m\u001b[1;33m\u001b[0m\u001b[1;33m\u001b[0m\u001b[0m\n\u001b[0;32m   5876\u001b[0m             \u001b[0mframe\u001b[0m \u001b[1;33m=\u001b[0m \u001b[0mself\u001b[0m\u001b[1;33m\u001b[0m\u001b[1;33m\u001b[0m\u001b[0m\n",
      "\u001b[1;31mKeyError\u001b[0m: \"None of ['vrsta'] are in the columns\""
     ]
    }
   ],
   "source": [
    "def štetje_vrst(razpredelnica):\n",
    "    število_vrste = razpredelnica.groupby(\"vrsta\")[[\"ime\"]].agg(\"count\")\n",
    "    število_vrste.rename(columns={\"ime\": \"število\"}, inplace=True)\n",
    "    # število_vrste.index.names = ['vrsta']\n",
    "    # število_vrste.set_index(\"vrsta\")\n",
    "    # število_vrste.loc[\"dovršni glagol\"] += število_vrste.loc[\"dovršni in nedovršni glagol\"]\n",
    "    # število_vrste.loc[\"nedovršni glagol\"] += število_vrste.loc[\"dovršni in nedovršni glagol\"]\n",
    "    # število_vrste.drop(\"dovršni in nedovršni glagol\", inplace=True)\n",
    "    \n",
    "    število = število_vrste.loc[\"dovršni glagol\"] +število_vrste.loc[\"nedovršni glagol\"] + število_vrste.loc[\"dovršni in nedovršni glagol\"]\n",
    "    število_vrste = pd.concat([pd.DataFrame({\"število\":število}), število_vrste])\n",
    "    število_vrste.drop(\"dovršni glagol\", inplace=True)\n",
    "    število_vrste.drop(\"nedovršni glagol\", inplace=True)\n",
    "    število_vrste.drop(\"dovršni in nedovršni glagol\", inplace=True)\n",
    "    \n",
    "    \n",
    "    \n",
    "    return število_vrste\n",
    "štetje_vrst(razpredelnica)"
   ]
  },
  {
   "cell_type": "code",
   "execution_count": 5,
   "metadata": {},
   "outputs": [
    {
     "data": {
      "text/plain": [
       "<Axes: xlabel='vrsta'>"
      ]
     },
     "execution_count": 5,
     "metadata": {},
     "output_type": "execute_result"
    },
    {
     "data": {
      "image/png": "[encoded data removed]",
      "text/plain": [
       "<Figure size 640x480 with 1 Axes>"
      ]
     },
     "metadata": {},
     "output_type": "display_data"
    }
   ],
   "source": [
    "število_vrste.plot.bar()"
   ]
  },
  {
   "cell_type": "code",
   "execution_count": 6,
   "metadata": {},
   "outputs": [
    {
     "data": {
      "text/html": [
       "<div>\n",
       "<style scoped>\n",
       "    .dataframe tbody tr th:only-of-type {\n",
       "        vertical-align: middle;\n",
       "    }\n",
       "\n",
       "    .dataframe tbody tr th {\n",
       "        vertical-align: top;\n",
       "    }\n",
       "\n",
       "    .dataframe thead th {\n",
       "        text-align: right;\n",
       "    }\n",
       "</style>\n",
       "<table border=\"1\" class=\"dataframe\">\n",
       "  <thead>\n",
       "    <tr style=\"text-align: right;\">\n",
       "      <th></th>\n",
       "      <th>ime</th>\n",
       "      <th>oblika</th>\n",
       "      <th>vrsta</th>\n",
       "      <th>tonemski_naglas</th>\n",
       "    </tr>\n",
       "  </thead>\n",
       "  <tbody>\n",
       "    <tr>\n",
       "      <th>2</th>\n",
       "      <td>abalienácija</td>\n",
       "      <td>-e</td>\n",
       "      <td>samostalnik ženskega spola</td>\n",
       "      <td>á</td>\n",
       "    </tr>\n",
       "    <tr>\n",
       "      <th>9</th>\n",
       "      <td>abdikácija</td>\n",
       "      <td>-e</td>\n",
       "      <td>samostalnik ženskega spola</td>\n",
       "      <td>á</td>\n",
       "    </tr>\n",
       "    <tr>\n",
       "      <th>12</th>\n",
       "      <td>abdúkcija</td>\n",
       "      <td>-e</td>\n",
       "      <td>samostalnik ženskega spola</td>\n",
       "      <td>ú</td>\n",
       "    </tr>\n",
       "    <tr>\n",
       "      <th>13</th>\n",
       "      <td>abece</td>\n",
       "      <td>-e</td>\n",
       "      <td>samostalnik ženskega spola</td>\n",
       "      <td>ẹ̑</td>\n",
       "    </tr>\n",
       "    <tr>\n",
       "      <th>17</th>\n",
       "      <td>abecédarica</td>\n",
       "      <td>-e</td>\n",
       "      <td>samostalnik ženskega spola</td>\n",
       "      <td>ẹ̑</td>\n",
       "    </tr>\n",
       "    <tr>\n",
       "      <th>...</th>\n",
       "      <td>...</td>\n",
       "      <td>...</td>\n",
       "      <td>...</td>\n",
       "      <td>...</td>\n",
       "    </tr>\n",
       "    <tr>\n",
       "      <th>20498</th>\n",
       "      <td>abecédniški</td>\n",
       "      <td>-a -o</td>\n",
       "      <td>samostalnik srednjega spola</td>\n",
       "      <td>ā</td>\n",
       "    </tr>\n",
       "    <tr>\n",
       "      <th>20565</th>\n",
       "      <td>absolutizíranje</td>\n",
       "      <td>-a</td>\n",
       "      <td>samostalnik srednjega spola</td>\n",
       "      <td>ȋ</td>\n",
       "    </tr>\n",
       "    <tr>\n",
       "      <th>20572</th>\n",
       "      <td>absorbíranje</td>\n",
       "      <td>-a</td>\n",
       "      <td>samostalnik srednjega spola</td>\n",
       "      <td>ȋ</td>\n",
       "    </tr>\n",
       "    <tr>\n",
       "      <th>20580</th>\n",
       "      <td>abstinêntski</td>\n",
       "      <td>abstinéntski -a -o</td>\n",
       "      <td>samostalnik srednjega spola</td>\n",
       "      <td>ē; ẹ̄</td>\n",
       "    </tr>\n",
       "    <tr>\n",
       "      <th>20581</th>\n",
       "      <td>abstinírati</td>\n",
       "      <td>-am</td>\n",
       "      <td>samostalnik srednjega spola</td>\n",
       "      <td>ȋ</td>\n",
       "    </tr>\n",
       "  </tbody>\n",
       "</table>\n",
       "<p>13741 rows × 4 columns</p>\n",
       "</div>"
      ],
      "text/plain": [
       "                   ime               oblika                        vrsta  \\\n",
       "2         abalienácija                  -e    samostalnik ženskega spola   \n",
       "9           abdikácija                  -e    samostalnik ženskega spola   \n",
       "12           abdúkcija                  -e    samostalnik ženskega spola   \n",
       "13               abece                  -e    samostalnik ženskega spola   \n",
       "17         abecédarica                  -e    samostalnik ženskega spola   \n",
       "...                ...                  ...                          ...   \n",
       "20498      abecédniški               -a -o   samostalnik srednjega spola   \n",
       "20565  absolutizíranje                  -a   samostalnik srednjega spola   \n",
       "20572     absorbíranje                  -a   samostalnik srednjega spola   \n",
       "20580     abstinêntski  abstinéntski -a -o   samostalnik srednjega spola   \n",
       "20581      abstinírati                 -am   samostalnik srednjega spola   \n",
       "\n",
       "      tonemski_naglas  \n",
       "2                   á  \n",
       "9                   á  \n",
       "12                  ú  \n",
       "13                 ẹ̑  \n",
       "17                 ẹ̑  \n",
       "...               ...  \n",
       "20498               ā  \n",
       "20565               ȋ  \n",
       "20572               ȋ  \n",
       "20580           ē; ẹ̄  \n",
       "20581               ȋ  \n",
       "\n",
       "[13741 rows x 4 columns]"
      ]
     },
     "execution_count": 6,
     "metadata": {},
     "output_type": "execute_result"
    }
   ],
   "source": [
    "ženski_samostalniki = razpredelnica.loc[razpredelnica[\"vrsta\"] == \"samostalnik ženskega spola\"]\n",
    "moški_samostalniki = razpredelnica.loc[razpredelnica[\"vrsta\"] == \"samostalnik moškega spola\"]\n",
    "srednji_samostalniki = razpredelnica.loc[razpredelnica[\"vrsta\"] == \"samostalnik srednjega spola\"]\n",
    "\n",
    "razpredelnica_samostalnikov = pd.concat([ženski_samostalniki, moški_samostalniki, srednji_samostalniki])\n",
    "razpredelnica_samostalnikov"
   ]
  }
 ],
 "metadata": {
  "kernelspec": {
   "display_name": "Python 3",
   "language": "python",
   "name": "python3"
  },
  "language_info": {
   "codemirror_mode": {
    "name": "ipython",
    "version": 3
   },
   "file_extension": ".py",
   "mimetype": "text/x-python",
   "name": "python",
   "nbconvert_exporter": "python",
   "pygments_lexer": "ipython3",
   "version": "3.10.6"
  }
 },
 "nbformat": 4,
 "nbformat_minor": 2
}
