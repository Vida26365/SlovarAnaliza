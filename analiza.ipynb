{
 "cells": [
  {
   "cell_type": "markdown",
   "metadata": {},
   "source": [
    "Uvozimo pakete"
   ]
  },
  {
   "cell_type": "code",
   "execution_count": 1,
   "metadata": {},
   "outputs": [],
   "source": [
    "import main\n",
    "import pandas as pd\n",
    "from spremenljivke import *\n",
    "from collections import Counter\n",
    "%matplotlib inline"
   ]
  },
  {
   "cell_type": "markdown",
   "metadata": {},
   "source": [
    "Pridobimo željene podatke"
   ]
  },
  {
   "cell_type": "code",
   "execution_count": 2,
   "metadata": {},
   "outputs": [
    {
     "data": {
      "text/plain": [
       "ime                200\n",
       "oblika             200\n",
       "vrsta              195\n",
       "izgovor            200\n",
       "tonemski naglas    200\n",
       "dtype: int64"
      ]
     },
     "execution_count": 2,
     "metadata": {},
     "output_type": "execute_result"
    }
   ],
   "source": [
    "#main.main(True, True, prva_stran, zadnja_stran)\n",
    "razpredelnica = pd.read_csv(pot_slovar)\n",
    "razpredelnica.count()"
   ]
  },
  {
   "cell_type": "markdown",
   "metadata": {},
   "source": [
    "Poglejmo si razpredelnivco pridobljenih podatkov"
   ]
  },
  {
   "cell_type": "code",
   "execution_count": 3,
   "metadata": {},
   "outputs": [
    {
     "data": {
      "text/html": [
       "<div>\n",
       "<style scoped>\n",
       "    .dataframe tbody tr th:only-of-type {\n",
       "        vertical-align: middle;\n",
       "    }\n",
       "\n",
       "    .dataframe tbody tr th {\n",
       "        vertical-align: top;\n",
       "    }\n",
       "\n",
       "    .dataframe thead th {\n",
       "        text-align: right;\n",
       "    }\n",
       "</style>\n",
       "<table border=\"1\" class=\"dataframe\">\n",
       "  <thead>\n",
       "    <tr style=\"text-align: right;\">\n",
       "      <th></th>\n",
       "      <th>ime</th>\n",
       "      <th>oblika</th>\n",
       "      <th>vrsta</th>\n",
       "      <th>izgovor</th>\n",
       "      <th>tonemski naglas</th>\n",
       "    </tr>\n",
       "  </thead>\n",
       "  <tbody>\n",
       "    <tr>\n",
       "      <th>0</th>\n",
       "      <td>á</td>\n",
       "      <td>{'--'}</td>\n",
       "      <td>samostalnik moškega spola</td>\n",
       "      <td>set()</td>\n",
       "      <td>{'ā'}</td>\n",
       "    </tr>\n",
       "    <tr>\n",
       "      <th>1</th>\n",
       "      <td>à</td>\n",
       "      <td>set()</td>\n",
       "      <td>prislov</td>\n",
       "      <td>{'á', 'à '}</td>\n",
       "      <td>{'ȁ; ȃ'}</td>\n",
       "    </tr>\n",
       "    <tr>\n",
       "      <th>2</th>\n",
       "      <td>à</td>\n",
       "      <td>set()</td>\n",
       "      <td>členek</td>\n",
       "      <td>set()</td>\n",
       "      <td>{'ȁ'}</td>\n",
       "    </tr>\n",
       "    <tr>\n",
       "      <th>3</th>\n",
       "      <td>a</td>\n",
       "      <td>set()</td>\n",
       "      <td>členek</td>\n",
       "      <td>set()</td>\n",
       "      <td>set()</td>\n",
       "    </tr>\n",
       "    <tr>\n",
       "      <th>4</th>\n",
       "      <td>a</td>\n",
       "      <td>set()</td>\n",
       "      <td>veznik</td>\n",
       "      <td>set()</td>\n",
       "      <td>set()</td>\n",
       "    </tr>\n",
       "    <tr>\n",
       "      <th>...</th>\n",
       "      <td>...</td>\n",
       "      <td>...</td>\n",
       "      <td>...</td>\n",
       "      <td>...</td>\n",
       "      <td>...</td>\n",
       "    </tr>\n",
       "    <tr>\n",
       "      <th>195</th>\n",
       "      <td>ad hoc</td>\n",
       "      <td>set()</td>\n",
       "      <td>prislov</td>\n",
       "      <td>{'athòk', 'athók '}</td>\n",
       "      <td>{'ọ̑; ȍ'}</td>\n",
       "    </tr>\n",
       "    <tr>\n",
       "      <th>196</th>\n",
       "      <td>adiabáta</td>\n",
       "      <td>{'-e'}</td>\n",
       "      <td>samostalnik ženskega spola</td>\n",
       "      <td>set()</td>\n",
       "      <td>{'ȃ'}</td>\n",
       "    </tr>\n",
       "    <tr>\n",
       "      <th>197</th>\n",
       "      <td>adiabáten</td>\n",
       "      <td>{'-o', '-tna'}</td>\n",
       "      <td>pridevnik</td>\n",
       "      <td>set()</td>\n",
       "      <td>{'ȃ'}</td>\n",
       "    </tr>\n",
       "    <tr>\n",
       "      <th>198</th>\n",
       "      <td>adiabátičen</td>\n",
       "      <td>{'-o', '-čna'}</td>\n",
       "      <td>pridevnik</td>\n",
       "      <td>set()</td>\n",
       "      <td>{'á'}</td>\n",
       "    </tr>\n",
       "    <tr>\n",
       "      <th>199</th>\n",
       "      <td>adícija</td>\n",
       "      <td>{'-e'}</td>\n",
       "      <td>samostalnik ženskega spola</td>\n",
       "      <td>set()</td>\n",
       "      <td>{'í'}</td>\n",
       "    </tr>\n",
       "  </tbody>\n",
       "</table>\n",
       "<p>200 rows × 5 columns</p>\n",
       "</div>"
      ],
      "text/plain": [
       "             ime          oblika                       vrsta  \\\n",
       "0              á          {'--'}   samostalnik moškega spola   \n",
       "1              à           set()                     prislov   \n",
       "2              à           set()                      členek   \n",
       "3              a           set()                      členek   \n",
       "4              a           set()                      veznik   \n",
       "..           ...             ...                         ...   \n",
       "195       ad hoc           set()                     prislov   \n",
       "196     adiabáta          {'-e'}  samostalnik ženskega spola   \n",
       "197    adiabáten  {'-o', '-tna'}                   pridevnik   \n",
       "198  adiabátičen  {'-o', '-čna'}                   pridevnik   \n",
       "199      adícija          {'-e'}  samostalnik ženskega spola   \n",
       "\n",
       "                 izgovor tonemski naglas  \n",
       "0                  set()           {'ā'}  \n",
       "1            {'á', 'à '}        {'ȁ; ȃ'}  \n",
       "2                  set()           {'ȁ'}  \n",
       "3                  set()           set()  \n",
       "4                  set()           set()  \n",
       "..                   ...             ...  \n",
       "195  {'athòk', 'athók '}       {'ọ̑; ȍ'}  \n",
       "196                set()           {'ȃ'}  \n",
       "197                set()           {'ȃ'}  \n",
       "198                set()           {'á'}  \n",
       "199                set()           {'í'}  \n",
       "\n",
       "[200 rows x 5 columns]"
      ]
     },
     "execution_count": 3,
     "metadata": {},
     "output_type": "execute_result"
    }
   ],
   "source": [
    "razpredelnica"
   ]
  },
  {
   "cell_type": "markdown",
   "metadata": {},
   "source": [
    "Poglejmo si koliko je posamezne besedne vrste"
   ]
  },
  {
   "cell_type": "code",
   "execution_count": 4,
   "metadata": {},
   "outputs": [
    {
     "data": {
      "text/html": [
       "<div>\n",
       "<style scoped>\n",
       "    .dataframe tbody tr th:only-of-type {\n",
       "        vertical-align: middle;\n",
       "    }\n",
       "\n",
       "    .dataframe tbody tr th {\n",
       "        vertical-align: top;\n",
       "    }\n",
       "\n",
       "    .dataframe thead th {\n",
       "        text-align: right;\n",
       "    }\n",
       "</style>\n",
       "<table border=\"1\" class=\"dataframe\">\n",
       "  <thead>\n",
       "    <tr style=\"text-align: right;\">\n",
       "      <th></th>\n",
       "      <th>število</th>\n",
       "    </tr>\n",
       "    <tr>\n",
       "      <th>vrsta</th>\n",
       "      <th></th>\n",
       "    </tr>\n",
       "  </thead>\n",
       "  <tbody>\n",
       "    <tr>\n",
       "      <th>pridevnik</th>\n",
       "      <td>58</td>\n",
       "    </tr>\n",
       "    <tr>\n",
       "      <th>samostalnik moškega spola</th>\n",
       "      <td>56</td>\n",
       "    </tr>\n",
       "    <tr>\n",
       "      <th>samostalnik ženskega spola</th>\n",
       "      <td>50</td>\n",
       "    </tr>\n",
       "    <tr>\n",
       "      <th>dovršni in nedovršni glagol</th>\n",
       "      <td>8</td>\n",
       "    </tr>\n",
       "    <tr>\n",
       "      <th>samostalnik srednjega spola</th>\n",
       "      <td>7</td>\n",
       "    </tr>\n",
       "    <tr>\n",
       "      <th>prislov</th>\n",
       "      <td>7</td>\n",
       "    </tr>\n",
       "    <tr>\n",
       "      <th>nedovršni in dovršni glagol</th>\n",
       "      <td>4</td>\n",
       "    </tr>\n",
       "    <tr>\n",
       "      <th>medmet</th>\n",
       "      <td>2</td>\n",
       "    </tr>\n",
       "    <tr>\n",
       "      <th>členek</th>\n",
       "      <td>2</td>\n",
       "    </tr>\n",
       "    <tr>\n",
       "      <th>veznik</th>\n",
       "      <td>1</td>\n",
       "    </tr>\n",
       "  </tbody>\n",
       "</table>\n",
       "</div>"
      ],
      "text/plain": [
       "                             število\n",
       "vrsta                               \n",
       "pridevnik                         58\n",
       "samostalnik moškega spola         56\n",
       "samostalnik ženskega spola        50\n",
       "dovršni in nedovršni glagol        8\n",
       "samostalnik srednjega spola        7\n",
       "prislov                            7\n",
       "nedovršni in dovršni glagol        4\n",
       "medmet                             2\n",
       "členek                             2\n",
       "veznik                             1"
      ]
     },
     "execution_count": 4,
     "metadata": {},
     "output_type": "execute_result"
    }
   ],
   "source": [
    "število_vrste = razpredelnica.groupby(\"vrsta\")[[\"ime\"]].agg(\"count\")\n",
    "število_vrste.rename(columns={\"ime\":\"število\"}, inplace=True)\n",
    "število_vrste.sort_values(\"število\", inplace=True, ascending=False)\n",
    "število_vrste"
   ]
  },
  {
   "cell_type": "code",
   "execution_count": 5,
   "metadata": {},
   "outputs": [
    {
     "data": {
      "text/plain": [
       "<Axes: xlabel='vrsta'>"
      ]
     },
     "execution_count": 5,
     "metadata": {},
     "output_type": "execute_result"
    },
    {
     "data": {
      "image/png": "[encoded data removed]",
      "text/plain": [
       "<Figure size 640x480 with 1 Axes>"
      ]
     },
     "metadata": {},
     "output_type": "display_data"
    }
   ],
   "source": [
    "število_vrste.plot.bar()"
   ]
  },
  {
   "cell_type": "markdown",
   "metadata": {},
   "source": [
    "Kot lahko vidite, to niso le besedna vrste ampak tudi dodatni podatki kot so spol in dovršnost. Zaradi teh dodatnih podatkov težje vidimo koliko je besed posamezne besedne vrste. To lahko spremenimo s pomočjo spodnje funkcije `štetje_vrst()`, ki združi podatke iz stolpca `\"vrsta\"` v dejanske vrste."
   ]
  },
  {
   "cell_type": "code",
   "execution_count": 6,
   "metadata": {},
   "outputs": [
    {
     "data": {
      "text/html": [
       "<div>\n",
       "<style scoped>\n",
       "    .dataframe tbody tr th:only-of-type {\n",
       "        vertical-align: middle;\n",
       "    }\n",
       "\n",
       "    .dataframe tbody tr th {\n",
       "        vertical-align: top;\n",
       "    }\n",
       "\n",
       "    .dataframe thead th {\n",
       "        text-align: right;\n",
       "    }\n",
       "</style>\n",
       "<table border=\"1\" class=\"dataframe\">\n",
       "  <thead>\n",
       "    <tr style=\"text-align: right;\">\n",
       "      <th></th>\n",
       "      <th>število</th>\n",
       "    </tr>\n",
       "    <tr>\n",
       "      <th>vrsta</th>\n",
       "      <th></th>\n",
       "    </tr>\n",
       "  </thead>\n",
       "  <tbody>\n",
       "    <tr>\n",
       "      <th>samostalnik</th>\n",
       "      <td>113</td>\n",
       "    </tr>\n",
       "    <tr>\n",
       "      <th>pridevnik</th>\n",
       "      <td>58</td>\n",
       "    </tr>\n",
       "    <tr>\n",
       "      <th>glagol</th>\n",
       "      <td>12</td>\n",
       "    </tr>\n",
       "    <tr>\n",
       "      <th>prislov</th>\n",
       "      <td>7</td>\n",
       "    </tr>\n",
       "    <tr>\n",
       "      <th>neznano</th>\n",
       "      <td>5</td>\n",
       "    </tr>\n",
       "    <tr>\n",
       "      <th>medmet</th>\n",
       "      <td>2</td>\n",
       "    </tr>\n",
       "    <tr>\n",
       "      <th>členek</th>\n",
       "      <td>2</td>\n",
       "    </tr>\n",
       "    <tr>\n",
       "      <th>veznik</th>\n",
       "      <td>1</td>\n",
       "    </tr>\n",
       "  </tbody>\n",
       "</table>\n",
       "</div>"
      ],
      "text/plain": [
       "             število\n",
       "vrsta               \n",
       "samostalnik      113\n",
       "pridevnik         58\n",
       "glagol            12\n",
       "prislov            7\n",
       "neznano            5\n",
       "medmet             2\n",
       "členek             2\n",
       "veznik             1"
      ]
     },
     "execution_count": 6,
     "metadata": {},
     "output_type": "execute_result"
    }
   ],
   "source": [
    "besedne_vrste = [\"samostalnik\", \"zaimek\", \"števnik\", \"pridevnik\", \"prislov\", \"glagol\"]\n",
    "raz_vrste = razpredelnica.copy()\n",
    "for vrsta in besedne_vrste:\n",
    "    raz_vrste.loc[raz_vrste[\"vrsta\"].apply(lambda x: type(x) != float and vrsta in x), \"vrsta\"] = vrsta\n",
    "raz_vrste.loc[raz_vrste[\"vrsta\"].apply(lambda x: type(x) == float), \"vrsta\"] = \"neznano\"\n",
    "\n",
    "def štetje_stolpca(raz, stolpec):\n",
    "    raz = raz.groupby(stolpec)[[stolpec]].agg(\"count\")\n",
    "    raz.rename(columns={stolpec:\"število\"}, inplace=True)\n",
    "    raz.sort_values(\"število\", inplace=True, ascending=False)\n",
    "    return raz\n",
    "\n",
    "štetje_stolpca(raz_vrste, \"vrsta\")"
   ]
  },
  {
   "cell_type": "code",
   "execution_count": 7,
   "metadata": {},
   "outputs": [
    {
     "data": {
      "text/plain": [
       "<Axes: xlabel='besedna vrsta'>"
      ]
     },
     "execution_count": 7,
     "metadata": {},
     "output_type": "execute_result"
    },
    {
     "data": {
      "image/png": "[encoded data removed]",
      "text/plain": [
       "<Figure size 640x480 with 1 Axes>"
      ]
     },
     "metadata": {},
     "output_type": "display_data"
    }
   ],
   "source": [
    "štetje_stolpca(raz_vrste, \"vrsta\").plot.bar(xlabel=\"besedna vrsta\")"
   ]
  },
  {
   "cell_type": "markdown",
   "metadata": {},
   "source": [
    "Sedaj ko smo uspeli ločiti besede na posamezne besedne vrste, lahko iščemo povprečno besedo besedne vrste.\n",
    "Povprečna beseda je tisti niz črk, za katerega velja, da je njegova dolžina toliko kolikor je povprečje dolžin besed (zaokroženo seveda na celo število) in njegova i-ta črka je tista, ki se največkrat pojavi na i-tem mestu besed. "
   ]
  },
  {
   "cell_type": "code",
   "execution_count": 8,
   "metadata": {},
   "outputs": [
    {
     "data": {
      "text/plain": [
       "'abstrátnn'"
      ]
     },
     "execution_count": 8,
     "metadata": {},
     "output_type": "execute_result"
    }
   ],
   "source": [
    "def razpredelnica_vrste(raz, vrsta=\"\"):\n",
    "    seznam = raz[\"vrsta\"].apply(lambda x: type(x) != float and vrsta in x)\n",
    "    return raz.loc[seznam]\n",
    "\n",
    "\n",
    "def črka_besede(i, beseda):\n",
    "    if len(beseda)<=i:\n",
    "        return \n",
    "    return beseda[i]\n",
    "\n",
    "def povprečna_beseda(razpredelnica):\n",
    "    dolžina = round(razpredelnica[\"ime\"].apply(len).sum()/razpredelnica[\"ime\"].count())\n",
    "    odg = \"\"\n",
    "    for i in range(dolžina):\n",
    "        seznam = razpredelnica[\"ime\"].apply(lambda beseda: črka_besede(i, beseda))\n",
    "        crke = Counter(seznam).most_common()\n",
    "        if crke[0][0] == None:\n",
    "            odg += crke[1][0]\n",
    "        else:\n",
    "            odg += crke[0][0]\n",
    "    return odg\n",
    "# razpredelnica\n",
    "# razpredelnica_vrste(razpredelnica, \"samostalnik moškega spola\")\n",
    "povprečna_beseda(razpredelnica_vrste(razpredelnica))"
   ]
  },
  {
   "cell_type": "markdown",
   "metadata": {},
   "source": [
    "Sedaj se osredotočimo le na samostalnike. "
   ]
  },
  {
   "cell_type": "code",
   "execution_count": 9,
   "metadata": {},
   "outputs": [
    {
     "data": {
      "text/html": [
       "<div>\n",
       "<style scoped>\n",
       "    .dataframe tbody tr th:only-of-type {\n",
       "        vertical-align: middle;\n",
       "    }\n",
       "\n",
       "    .dataframe tbody tr th {\n",
       "        vertical-align: top;\n",
       "    }\n",
       "\n",
       "    .dataframe thead th {\n",
       "        text-align: right;\n",
       "    }\n",
       "</style>\n",
       "<table border=\"1\" class=\"dataframe\">\n",
       "  <thead>\n",
       "    <tr style=\"text-align: right;\">\n",
       "      <th></th>\n",
       "      <th>ime</th>\n",
       "      <th>oblika</th>\n",
       "      <th>vrsta</th>\n",
       "      <th>izgovor</th>\n",
       "      <th>tonemski naglas</th>\n",
       "    </tr>\n",
       "  </thead>\n",
       "  <tbody>\n",
       "    <tr>\n",
       "      <th>0</th>\n",
       "      <td>á</td>\n",
       "      <td>{'--'}</td>\n",
       "      <td>samostalnik moškega spola</td>\n",
       "      <td>set()</td>\n",
       "      <td>{'ā'}</td>\n",
       "    </tr>\n",
       "    <tr>\n",
       "      <th>7</th>\n",
       "      <td>ábak</td>\n",
       "      <td>{'-a', 'ábakus'}</td>\n",
       "      <td>samostalnik moškega spola</td>\n",
       "      <td>set()</td>\n",
       "      <td>{'ȃ'}</td>\n",
       "    </tr>\n",
       "    <tr>\n",
       "      <th>8</th>\n",
       "      <td>abalienácija</td>\n",
       "      <td>{'-e'}</td>\n",
       "      <td>samostalnik ženskega spola</td>\n",
       "      <td>set()</td>\n",
       "      <td>{'á'}</td>\n",
       "    </tr>\n",
       "    <tr>\n",
       "      <th>10</th>\n",
       "      <td>abbé</td>\n",
       "      <td>{'-ja'}</td>\n",
       "      <td>samostalnik moškega spola</td>\n",
       "      <td>{'abé -êja'}</td>\n",
       "      <td>{'ẹ̑ ȇ'}</td>\n",
       "    </tr>\n",
       "    <tr>\n",
       "      <th>11</th>\n",
       "      <td>abc</td>\n",
       "      <td>{'abecé', '--'}</td>\n",
       "      <td>samostalnik moškega spola</td>\n",
       "      <td>{'abẹcé ', 'abəcə̀'}</td>\n",
       "      <td>{'ẹ̑; ə̏'}</td>\n",
       "    </tr>\n",
       "    <tr>\n",
       "      <th>...</th>\n",
       "      <td>...</td>\n",
       "      <td>...</td>\n",
       "      <td>...</td>\n",
       "      <td>...</td>\n",
       "      <td>...</td>\n",
       "    </tr>\n",
       "    <tr>\n",
       "      <th>189</th>\n",
       "      <td>adépt</td>\n",
       "      <td>{'-a'}</td>\n",
       "      <td>samostalnik moškega spola</td>\n",
       "      <td>set()</td>\n",
       "      <td>{'ẹ̑'}</td>\n",
       "    </tr>\n",
       "    <tr>\n",
       "      <th>191</th>\n",
       "      <td>adhezíja</td>\n",
       "      <td>{'-e'}</td>\n",
       "      <td>samostalnik ženskega spola</td>\n",
       "      <td>set()</td>\n",
       "      <td>{'ȋ'}</td>\n",
       "    </tr>\n",
       "    <tr>\n",
       "      <th>194</th>\n",
       "      <td>adhezívnost</td>\n",
       "      <td>{'-i'}</td>\n",
       "      <td>samostalnik ženskega spola</td>\n",
       "      <td>set()</td>\n",
       "      <td>{'ȋ'}</td>\n",
       "    </tr>\n",
       "    <tr>\n",
       "      <th>196</th>\n",
       "      <td>adiabáta</td>\n",
       "      <td>{'-e'}</td>\n",
       "      <td>samostalnik ženskega spola</td>\n",
       "      <td>set()</td>\n",
       "      <td>{'ȃ'}</td>\n",
       "    </tr>\n",
       "    <tr>\n",
       "      <th>199</th>\n",
       "      <td>adícija</td>\n",
       "      <td>{'-e'}</td>\n",
       "      <td>samostalnik ženskega spola</td>\n",
       "      <td>set()</td>\n",
       "      <td>{'í'}</td>\n",
       "    </tr>\n",
       "  </tbody>\n",
       "</table>\n",
       "<p>113 rows × 5 columns</p>\n",
       "</div>"
      ],
      "text/plain": [
       "              ime            oblika                       vrsta  \\\n",
       "0               á            {'--'}   samostalnik moškega spola   \n",
       "7            ábak  {'-a', 'ábakus'}   samostalnik moškega spola   \n",
       "8    abalienácija            {'-e'}  samostalnik ženskega spola   \n",
       "10           abbé           {'-ja'}   samostalnik moškega spola   \n",
       "11            abc   {'abecé', '--'}   samostalnik moškega spola   \n",
       "..            ...               ...                         ...   \n",
       "189         adépt            {'-a'}   samostalnik moškega spola   \n",
       "191      adhezíja            {'-e'}  samostalnik ženskega spola   \n",
       "194   adhezívnost            {'-i'}  samostalnik ženskega spola   \n",
       "196      adiabáta            {'-e'}  samostalnik ženskega spola   \n",
       "199       adícija            {'-e'}  samostalnik ženskega spola   \n",
       "\n",
       "                  izgovor tonemski naglas  \n",
       "0                   set()           {'ā'}  \n",
       "7                   set()           {'ȃ'}  \n",
       "8                   set()           {'á'}  \n",
       "10           {'abé -êja'}        {'ẹ̑ ȇ'}  \n",
       "11   {'abẹcé ', 'abəcə̀'}      {'ẹ̑; ə̏'}  \n",
       "..                    ...             ...  \n",
       "189                 set()          {'ẹ̑'}  \n",
       "191                 set()           {'ȋ'}  \n",
       "194                 set()           {'ȋ'}  \n",
       "196                 set()           {'ȃ'}  \n",
       "199                 set()           {'í'}  \n",
       "\n",
       "[113 rows x 5 columns]"
      ]
     },
     "execution_count": 9,
     "metadata": {},
     "output_type": "execute_result"
    }
   ],
   "source": [
    "razpredelnica_samostalnikov = razpredelnica_vrste(razpredelnica, \"samostalnik\")\n",
    "razpredelnica_samostalnikov\n"
   ]
  },
  {
   "cell_type": "code",
   "execution_count": 20,
   "metadata": {},
   "outputs": [
    {
     "data": {
      "text/plain": [
       "342"
      ]
     },
     "execution_count": 20,
     "metadata": {},
     "output_type": "execute_result"
    }
   ],
   "source": [
    "def štetje_črk(raz, bes):\n",
    "    if bes == \"a\":\n",
    "        bes = \"aáà\"\n",
    "    elif bes == \"e\":\n",
    "        bes = \"eéèê\"\n",
    "    elif bes == \"o\":\n",
    "        bes = \"oóòô\"\n",
    "    elif bes == \"i\":\n",
    "        bes = \"iíì\"\n",
    "    st = 0\n",
    "    for c in bes:\n",
    "        for ime in raz[\"ime\"]:\n",
    "            st += ime.count(c)\n",
    "    return st\n",
    "Štetje_črk(razpredelnica, \"a\")"
   ]
  },
  {
   "cell_type": "code",
   "execution_count": 93,
   "metadata": {},
   "outputs": [
    {
     "data": {
      "text/plain": [
       "<Axes: >"
      ]
     },
     "execution_count": 93,
     "metadata": {},
     "output_type": "execute_result"
    },
    {
     "data": {
      "image/png": "[encoded data removed]",
      "text/plain": [
       "<Figure size 640x480 with 1 Axes>"
      ]
     },
     "metadata": {},
     "output_type": "display_data"
    }
   ],
   "source": [
    "def razpredelnica_črk(sez_raz, oznake=None):\n",
    "    abeceda = \"abcčdefghijklmnoprsštuvzž\"\n",
    "    seznam = []\n",
    "    for raz in sez_raz:\n",
    "        slovar = {}\n",
    "        for c in abeceda:\n",
    "            slovar[c] = štetje_črk(raz, c)\n",
    "        seznam.append(slovar)\n",
    "    return pd.DataFrame(seznam, index=oznake).transpose()\n",
    "\n",
    "\n",
    "\n",
    "s = razpredelnica_črk([razpredelnica_samostalnikov, razpredelnica], [\"saomostalniki\", \"vse\"])\n",
    "s.plot.bar()\n"
   ]
  }
 ],
 "metadata": {
  "kernelspec": {
   "display_name": "Python 3",
   "language": "python",
   "name": "python3"
  },
  "language_info": {
   "codemirror_mode": {
    "name": "ipython",
    "version": 3
   },
   "file_extension": ".py",
   "mimetype": "text/x-python",
   "name": "python",
   "nbconvert_exporter": "python",
   "pygments_lexer": "ipython3",
   "version": "3.12.4"
  }
 },
 "nbformat": 4,
 "nbformat_minor": 2
}
