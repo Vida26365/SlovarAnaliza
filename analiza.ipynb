{
 "cells": [
  {
   "cell_type": "markdown",
   "metadata": {},
   "source": [
    "Uvozimo pakete"
   ]
  },
  {
   "cell_type": "code",
   "execution_count": 14,
   "metadata": {},
   "outputs": [],
   "source": [
    "import main\n",
    "import pandas as pd\n",
    "from spremenljivke import *\n",
    "from collections import Counter\n",
    "%matplotlib inline"
   ]
  },
  {
   "cell_type": "markdown",
   "metadata": {},
   "source": [
    "Pridobimo željene podatke"
   ]
  },
  {
   "cell_type": "code",
   "execution_count": 2,
   "metadata": {},
   "outputs": [],
   "source": [
    "# main.main(True, True, prva_stran, zadnja_stran)"
   ]
  },
  {
   "cell_type": "markdown",
   "metadata": {},
   "source": [
    "Poglejmo si razpredelnivco pridobljenih podatkov"
   ]
  },
  {
   "cell_type": "code",
   "execution_count": 3,
   "metadata": {},
   "outputs": [
    {
     "data": {
      "text/html": [
       "<div>\n",
       "<style scoped>\n",
       "    .dataframe tbody tr th:only-of-type {\n",
       "        vertical-align: middle;\n",
       "    }\n",
       "\n",
       "    .dataframe tbody tr th {\n",
       "        vertical-align: top;\n",
       "    }\n",
       "\n",
       "    .dataframe thead th {\n",
       "        text-align: right;\n",
       "    }\n",
       "</style>\n",
       "<table border=\"1\" class=\"dataframe\">\n",
       "  <thead>\n",
       "    <tr style=\"text-align: right;\">\n",
       "      <th></th>\n",
       "      <th>ime</th>\n",
       "      <th>oblika</th>\n",
       "      <th>vrsta</th>\n",
       "      <th>tonemski_naglas</th>\n",
       "    </tr>\n",
       "  </thead>\n",
       "  <tbody>\n",
       "    <tr>\n",
       "      <th>0</th>\n",
       "      <td>á</td>\n",
       "      <td>--</td>\n",
       "      <td>samostalnik moškega spola</td>\n",
       "      <td>ā</td>\n",
       "    </tr>\n",
       "    <tr>\n",
       "      <th>1</th>\n",
       "      <td>à</td>\n",
       "      <td>à</td>\n",
       "      <td>samostalnik moškega spola</td>\n",
       "      <td>ȃ</td>\n",
       "    </tr>\n",
       "    <tr>\n",
       "      <th>2</th>\n",
       "      <td>abalienácija</td>\n",
       "      <td>-e</td>\n",
       "      <td>samostalnik ženskega spola</td>\n",
       "      <td>á</td>\n",
       "    </tr>\n",
       "    <tr>\n",
       "      <th>3</th>\n",
       "      <td>abalienacíjski</td>\n",
       "      <td>-a -o</td>\n",
       "      <td>pridevnik</td>\n",
       "      <td>ȋ</td>\n",
       "    </tr>\n",
       "    <tr>\n",
       "      <th>4</th>\n",
       "      <td>abbé</td>\n",
       "      <td>-ja</td>\n",
       "      <td>samostalnik moškega spola</td>\n",
       "      <td>ẹ̑ ȇ</td>\n",
       "    </tr>\n",
       "    <tr>\n",
       "      <th>...</th>\n",
       "      <td>...</td>\n",
       "      <td>...</td>\n",
       "      <td>...</td>\n",
       "      <td>...</td>\n",
       "    </tr>\n",
       "    <tr>\n",
       "      <th>1792</th>\n",
       "      <td>armáda</td>\n",
       "      <td>-e</td>\n",
       "      <td>samostalnik ženskega spola</td>\n",
       "      <td>ȃ</td>\n",
       "    </tr>\n",
       "    <tr>\n",
       "      <th>1793</th>\n",
       "      <td>armáden</td>\n",
       "      <td>-dna -o</td>\n",
       "      <td>pridevnik</td>\n",
       "      <td>ȃ</td>\n",
       "    </tr>\n",
       "    <tr>\n",
       "      <th>1794</th>\n",
       "      <td>ármafleks</td>\n",
       "      <td>-a</td>\n",
       "      <td>samostalnik moškega spola</td>\n",
       "      <td>ȃ</td>\n",
       "    </tr>\n",
       "    <tr>\n",
       "      <th>1795</th>\n",
       "      <td>armatúra</td>\n",
       "      <td>-e</td>\n",
       "      <td>samostalnik ženskega spola</td>\n",
       "      <td>ȗ</td>\n",
       "    </tr>\n",
       "    <tr>\n",
       "      <th>1796</th>\n",
       "      <td>armatúren</td>\n",
       "      <td>-rna -o</td>\n",
       "      <td>pridevnik</td>\n",
       "      <td>ȗ</td>\n",
       "    </tr>\n",
       "  </tbody>\n",
       "</table>\n",
       "<p>1797 rows × 4 columns</p>\n",
       "</div>"
      ],
      "text/plain": [
       "                 ime    oblika                       vrsta tonemski_naglas\n",
       "0                  á       --    samostalnik moškega spola               ā\n",
       "1                  à        à    samostalnik moškega spola               ȃ\n",
       "2       abalienácija       -e   samostalnik ženskega spola               á\n",
       "3     abalienacíjski    -a -o                    pridevnik               ȋ\n",
       "4               abbé      -ja    samostalnik moškega spola            ẹ̑ ȇ\n",
       "...              ...       ...                         ...             ...\n",
       "1792          armáda       -e   samostalnik ženskega spola               ȃ\n",
       "1793         armáden  -dna -o                    pridevnik               ȃ\n",
       "1794       ármafleks       -a    samostalnik moškega spola               ȃ\n",
       "1795        armatúra       -e   samostalnik ženskega spola               ȗ\n",
       "1796       armatúren  -rna -o                    pridevnik               ȗ\n",
       "\n",
       "[1797 rows x 4 columns]"
      ]
     },
     "execution_count": 3,
     "metadata": {},
     "output_type": "execute_result"
    }
   ],
   "source": [
    "razpredelnica"
   ]
  },
  {
   "cell_type": "markdown",
   "metadata": {},
   "source": [
    "Poglejmo si koliko je posamezne besedne vrste"
   ]
  },
  {
   "cell_type": "code",
   "execution_count": 4,
   "metadata": {},
   "outputs": [
    {
     "data": {
      "text/html": [
       "<div>\n",
       "<style scoped>\n",
       "    .dataframe tbody tr th:only-of-type {\n",
       "        vertical-align: middle;\n",
       "    }\n",
       "\n",
       "    .dataframe tbody tr th {\n",
       "        vertical-align: top;\n",
       "    }\n",
       "\n",
       "    .dataframe thead th {\n",
       "        text-align: right;\n",
       "    }\n",
       "</style>\n",
       "<table border=\"1\" class=\"dataframe\">\n",
       "  <thead>\n",
       "    <tr style=\"text-align: right;\">\n",
       "      <th></th>\n",
       "      <th>število</th>\n",
       "    </tr>\n",
       "    <tr>\n",
       "      <th>vrsta</th>\n",
       "      <th></th>\n",
       "    </tr>\n",
       "  </thead>\n",
       "  <tbody>\n",
       "    <tr>\n",
       "      <th>samostalnik moškega spola</th>\n",
       "      <td>636</td>\n",
       "    </tr>\n",
       "    <tr>\n",
       "      <th>samostalnik ženskega spola</th>\n",
       "      <td>530</td>\n",
       "    </tr>\n",
       "    <tr>\n",
       "      <th>pridevnik</th>\n",
       "      <td>490</td>\n",
       "    </tr>\n",
       "    <tr>\n",
       "      <th>samostalnik srednjega spola</th>\n",
       "      <td>63</td>\n",
       "    </tr>\n",
       "    <tr>\n",
       "      <th>dovršni in nedovršni glagol</th>\n",
       "      <td>55</td>\n",
       "    </tr>\n",
       "    <tr>\n",
       "      <th>nedovršni glagol</th>\n",
       "      <td>18</td>\n",
       "    </tr>\n",
       "    <tr>\n",
       "      <th>prislov</th>\n",
       "      <td>3</td>\n",
       "    </tr>\n",
       "    <tr>\n",
       "      <th>dovršni glagol</th>\n",
       "      <td>1</td>\n",
       "    </tr>\n",
       "    <tr>\n",
       "      <th>členek</th>\n",
       "      <td>1</td>\n",
       "    </tr>\n",
       "  </tbody>\n",
       "</table>\n",
       "</div>"
      ],
      "text/plain": [
       "                             število\n",
       "vrsta                               \n",
       "samostalnik moškega spola        636\n",
       "samostalnik ženskega spola       530\n",
       "pridevnik                        490\n",
       "samostalnik srednjega spola       63\n",
       "dovršni in nedovršni glagol       55\n",
       "nedovršni glagol                  18\n",
       "prislov                            3\n",
       "dovršni glagol                     1\n",
       "členek                             1"
      ]
     },
     "execution_count": 4,
     "metadata": {},
     "output_type": "execute_result"
    }
   ],
   "source": [
    "število_vrste = razpredelnica.groupby(\"vrsta\")[[\"ime\"]].agg(\"count\")\n",
    "število_vrste.rename(columns={\"ime\":\"število\"}, inplace=True)\n",
    "število_vrste.sort_values(\"število\", inplace=True, ascending=False)\n",
    "število_vrste"
   ]
  },
  {
   "cell_type": "code",
   "execution_count": 41,
   "metadata": {},
   "outputs": [
    {
     "data": {
      "text/plain": [
       "<Axes: xlabel='vrsta'>"
      ]
     },
     "execution_count": 41,
     "metadata": {},
     "output_type": "execute_result"
    },
    {
     "data": {
      "image/png": "[encoded data removed]",
      "text/plain": [
       "<Figure size 640x480 with 1 Axes>"
      ]
     },
     "metadata": {},
     "output_type": "display_data"
    }
   ],
   "source": [
    "število_vrste.plot.bar()"
   ]
  },
  {
   "cell_type": "markdown",
   "metadata": {},
   "source": [
    "Kot lahko vidite, to niso le besedna vrste ampak tudi dodatni podatki kot so spol in dovršnost. Zaradi teh dodatnih podatkov težje vidimo koliko je besed posamezne besedne vrste. To lahko spremenimo s pomočjo spodnje funkcije `štetje_vrst()`, ki združi podatke iz stolpca `\"vrsta\"` v dejanske vrste."
   ]
  },
  {
   "cell_type": "code",
   "execution_count": 110,
   "metadata": {},
   "outputs": [
    {
     "data": {
      "text/html": [
       "<div>\n",
       "<style scoped>\n",
       "    .dataframe tbody tr th:only-of-type {\n",
       "        vertical-align: middle;\n",
       "    }\n",
       "\n",
       "    .dataframe tbody tr th {\n",
       "        vertical-align: top;\n",
       "    }\n",
       "\n",
       "    .dataframe thead th {\n",
       "        text-align: right;\n",
       "    }\n",
       "</style>\n",
       "<table border=\"1\" class=\"dataframe\">\n",
       "  <thead>\n",
       "    <tr style=\"text-align: right;\">\n",
       "      <th></th>\n",
       "      <th>število</th>\n",
       "    </tr>\n",
       "    <tr>\n",
       "      <th>vrsta</th>\n",
       "      <th></th>\n",
       "    </tr>\n",
       "  </thead>\n",
       "  <tbody>\n",
       "    <tr>\n",
       "      <th>samostalnik</th>\n",
       "      <td>1229</td>\n",
       "    </tr>\n",
       "    <tr>\n",
       "      <th>pridevnik</th>\n",
       "      <td>490</td>\n",
       "    </tr>\n",
       "    <tr>\n",
       "      <th>glagol</th>\n",
       "      <td>74</td>\n",
       "    </tr>\n",
       "    <tr>\n",
       "      <th>prislov</th>\n",
       "      <td>3</td>\n",
       "    </tr>\n",
       "    <tr>\n",
       "      <th>členek</th>\n",
       "      <td>1</td>\n",
       "    </tr>\n",
       "  </tbody>\n",
       "</table>\n",
       "</div>"
      ],
      "text/plain": [
       "             število\n",
       "vrsta               \n",
       "samostalnik     1229\n",
       "pridevnik        490\n",
       "glagol            74\n",
       "prislov            3\n",
       "členek             1"
      ]
     },
     "execution_count": 110,
     "metadata": {},
     "output_type": "execute_result"
    }
   ],
   "source": [
    "def razpredelnica_vrste(raz, vrsta):\n",
    "    seznam = raz[\"vrsta\"].apply(lambda x: vrsta in x)\n",
    "    return raz.loc[seznam]\n",
    "\n",
    "besedne_vrste = [\"samostalnik\", \"zaimek\", \"števnik\", \"pridevnik\", \"prislov\", \"glagol\"]\n",
    "raz_vrste = razpredelnica.copy()\n",
    "for vrsta in besedne_vrste:\n",
    "    raz_vrste[\"vrsta\"].loc[raz_vrste[\"vrsta\"].apply(lambda x: vrsta in x)] = vrsta\n",
    "    \n",
    "    \n",
    "def štetje_stolpca(raz, stolpec):\n",
    "    raz = raz.groupby(stolpec)[[stolpec]].agg(\"count\")\n",
    "    raz.rename(columns={stolpec:\"število\"}, inplace=True)\n",
    "    raz.sort_values(\"število\", inplace=True, ascending=False)\n",
    "    return raz\n",
    "\n",
    "\n",
    "# raz_vrste\n",
    "štetje_stolpca(raz_vrste, \"vrsta\")"
   ]
  },
  {
   "cell_type": "code",
   "execution_count": 7,
   "metadata": {},
   "outputs": [
    {
     "data": {
      "text/plain": [
       "<Axes: >"
      ]
     },
     "execution_count": 7,
     "metadata": {},
     "output_type": "execute_result"
    },
    {
     "data": {
      "image/png": "[encoded data removed]",
      "text/plain": [
       "<Figure size 640x480 with 1 Axes>"
      ]
     },
     "metadata": {},
     "output_type": "display_data"
    }
   ],
   "source": [
    "štetje_vrst(razpredelnica).plot.bar()"
   ]
  },
  {
   "cell_type": "markdown",
   "metadata": {},
   "source": [
    "Sedaj ko smo uspeli ločiti besede na posamezne besedne vrste, lahko iščemo povprečno besedo besedne vrste.\n",
    "Povprečna beseda je tisti niz črk, za katerega velja, da je njegova dolžina toliko kolikor je povprečje dolžin besed (zaokroženo seveda na celo število) in njegova i-ta črka je tista, ki se največkrat pojavi na i-tem mestu besed. "
   ]
  },
  {
   "cell_type": "code",
   "execution_count": 69,
   "metadata": {},
   "outputs": [
    {
     "data": {
      "text/plain": [
       "'antitítta'"
      ]
     },
     "execution_count": 69,
     "metadata": {},
     "output_type": "execute_result"
    }
   ],
   "source": [
    "def črka_besede(i, beseda):\n",
    "    if len(beseda)<=i:\n",
    "        return \n",
    "    return beseda[i]\n",
    "\n",
    "def povprečna_beseda(razpredelnica):\n",
    "    dolžina = round(razpredelnica[\"ime\"].apply(len).sum()/razpredelnica[\"ime\"].count())\n",
    "    odg = \"\"\n",
    "    for i in range(dolžina):\n",
    "        seznam = razpredelnica[\"ime\"].apply(lambda beseda: črka_besede(i, beseda))\n",
    "        crke = Counter(seznam).most_common()\n",
    "        if crke[0][0] == None:\n",
    "            odg += crke[1][0]\n",
    "        else:\n",
    "            odg += crke[0][0]\n",
    "    return odg\n",
    "\n",
    "povprečna_beseda(razpredelnica_samostalnikov)"
   ]
  },
  {
   "cell_type": "markdown",
   "metadata": {},
   "source": [
    "Sedaj se osredotočimo le na samostalnike. "
   ]
  },
  {
   "cell_type": "code",
   "execution_count": 68,
   "metadata": {},
   "outputs": [
    {
     "data": {
      "text/html": [
       "<div>\n",
       "<style scoped>\n",
       "    .dataframe tbody tr th:only-of-type {\n",
       "        vertical-align: middle;\n",
       "    }\n",
       "\n",
       "    .dataframe tbody tr th {\n",
       "        vertical-align: top;\n",
       "    }\n",
       "\n",
       "    .dataframe thead th {\n",
       "        text-align: right;\n",
       "    }\n",
       "</style>\n",
       "<table border=\"1\" class=\"dataframe\">\n",
       "  <thead>\n",
       "    <tr style=\"text-align: right;\">\n",
       "      <th></th>\n",
       "      <th>ime</th>\n",
       "      <th>oblika</th>\n",
       "      <th>vrsta</th>\n",
       "      <th>tonemski_naglas</th>\n",
       "    </tr>\n",
       "  </thead>\n",
       "  <tbody>\n",
       "    <tr>\n",
       "      <th>0</th>\n",
       "      <td>á</td>\n",
       "      <td>--</td>\n",
       "      <td>samostalnik moškega spola</td>\n",
       "      <td>ā</td>\n",
       "    </tr>\n",
       "    <tr>\n",
       "      <th>1</th>\n",
       "      <td>à</td>\n",
       "      <td>à</td>\n",
       "      <td>samostalnik moškega spola</td>\n",
       "      <td>ȃ</td>\n",
       "    </tr>\n",
       "    <tr>\n",
       "      <th>2</th>\n",
       "      <td>abalienácija</td>\n",
       "      <td>-e</td>\n",
       "      <td>samostalnik ženskega spola</td>\n",
       "      <td>á</td>\n",
       "    </tr>\n",
       "    <tr>\n",
       "      <th>4</th>\n",
       "      <td>abbé</td>\n",
       "      <td>-ja</td>\n",
       "      <td>samostalnik moškega spola</td>\n",
       "      <td>ẹ̑ ȇ</td>\n",
       "    </tr>\n",
       "    <tr>\n",
       "      <th>5</th>\n",
       "      <td>abc</td>\n",
       "      <td>abecé --</td>\n",
       "      <td>samostalnik moškega spola</td>\n",
       "      <td>ẹ̑; ə̏</td>\n",
       "    </tr>\n",
       "    <tr>\n",
       "      <th>...</th>\n",
       "      <td>...</td>\n",
       "      <td>...</td>\n",
       "      <td>...</td>\n",
       "      <td>...</td>\n",
       "    </tr>\n",
       "    <tr>\n",
       "      <th>1790</th>\n",
       "      <td>arktíd</td>\n",
       "      <td>-a</td>\n",
       "      <td>samostalnik moškega spola</td>\n",
       "      <td>ȋ</td>\n",
       "    </tr>\n",
       "    <tr>\n",
       "      <th>1791</th>\n",
       "      <td>Árktika</td>\n",
       "      <td>-e</td>\n",
       "      <td>samostalnik ženskega spola</td>\n",
       "      <td>á</td>\n",
       "    </tr>\n",
       "    <tr>\n",
       "      <th>1792</th>\n",
       "      <td>armáda</td>\n",
       "      <td>-e</td>\n",
       "      <td>samostalnik ženskega spola</td>\n",
       "      <td>ȃ</td>\n",
       "    </tr>\n",
       "    <tr>\n",
       "      <th>1794</th>\n",
       "      <td>ármafleks</td>\n",
       "      <td>-a</td>\n",
       "      <td>samostalnik moškega spola</td>\n",
       "      <td>ȃ</td>\n",
       "    </tr>\n",
       "    <tr>\n",
       "      <th>1795</th>\n",
       "      <td>armatúra</td>\n",
       "      <td>-e</td>\n",
       "      <td>samostalnik ženskega spola</td>\n",
       "      <td>ȗ</td>\n",
       "    </tr>\n",
       "  </tbody>\n",
       "</table>\n",
       "<p>1229 rows × 4 columns</p>\n",
       "</div>"
      ],
      "text/plain": [
       "               ime     oblika                       vrsta tonemski_naglas\n",
       "0                á        --    samostalnik moškega spola               ā\n",
       "1                à         à    samostalnik moškega spola               ȃ\n",
       "2     abalienácija        -e   samostalnik ženskega spola               á\n",
       "4             abbé       -ja    samostalnik moškega spola            ẹ̑ ȇ\n",
       "5              abc  abecé --    samostalnik moškega spola          ẹ̑; ə̏\n",
       "...            ...        ...                         ...             ...\n",
       "1790        arktíd        -a    samostalnik moškega spola               ȋ\n",
       "1791       Árktika        -e   samostalnik ženskega spola               á\n",
       "1792        armáda        -e   samostalnik ženskega spola               ȃ\n",
       "1794     ármafleks        -a    samostalnik moškega spola               ȃ\n",
       "1795      armatúra        -e   samostalnik ženskega spola               ȗ\n",
       "\n",
       "[1229 rows x 4 columns]"
      ]
     },
     "execution_count": 68,
     "metadata": {},
     "output_type": "execute_result"
    }
   ],
   "source": [
    "razpredelnica_samostalnikov = razoredelnica_vrste(razpredelnica, \"samostalnik\")\n",
    "razpredelnica_samostalnikov\n"
   ]
  },
  {
   "cell_type": "code",
   "execution_count": 120,
   "metadata": {},
   "outputs": [],
   "source": [
    "# prva_ženska_sklanjatev = razpredelnica_samostalnikov.loc[]\n",
    "# (razpredelnica_samostalnikov[\"vrsta\"] == \"samostalnik ženskega spola\") & \"-e\" in razpredelnica_samostalnikov[\"oblika\"]\n",
    "# prva_ženska_sklanjatev"
   ]
  }
 ],
 "metadata": {
  "kernelspec": {
   "display_name": "Python 3",
   "language": "python",
   "name": "python3"
  },
  "language_info": {
   "codemirror_mode": {
    "name": "ipython",
    "version": 3
   },
   "file_extension": ".py",
   "mimetype": "text/x-python",
   "name": "python",
   "nbconvert_exporter": "python",
   "pygments_lexer": "ipython3",
   "version": "3.10.6"
  }
 },
 "nbformat": 4,
 "nbformat_minor": 2
}
