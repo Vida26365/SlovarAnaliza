{
 "cells": [
  {
   "cell_type": "markdown",
   "metadata": {},
   "source": [
    "Uvozimo pakete in pomožne datoteke. Nastavimo koliko je največje število celic v razpredelnici, ki jih program prikaže ter z vrstico `%matplotlib inline` poskrbimo, da program lahko izriše grafe direktno pod celico s kodo."
   ]
  },
  {
   "cell_type": "code",
   "execution_count": 1,
   "metadata": {},
   "outputs": [],
   "source": [
    "import main\n",
    "import pandas as pd\n",
    "import os\n",
    "from spremenljivke import *\n",
    "\n",
    "# %matplotlib inline\n",
    "pd.set_option(\"display.max_rows\", 50)"
   ]
  },
  {
   "cell_type": "markdown",
   "metadata": {},
   "source": [
    "V tej celici lahko (in vas spodbujam, da to tudi naredite) zamenjate podatke. \n",
    "v prvi vrstici lahko spremenite dva parametra `od` in `do`. Ta dva parametra povesta od katere do vključno katere strani želite analizirati slovar. Strani je 4884, in za pridobitev vseh teh podatkov računalnik potrebuje približno 5 ur (vsaj moj računalnik je porabil toliko, ampak priznam, da nima veliko RAMa). Program potrebuje približno 2,5 sekunde na stran, zato priporočam da se omejite na 10 strani.\n",
    "\n",
    "Če ste enkrat to funkcijo že pognali in si želite zajeti druge podatke lahko spremenite vresdnosti `downlovdaj` in `pocsvjaj` na `True`. Tako se bo program izvedel še enkrat, kljub temu, da že imate te podatke."
   ]
  },
  {
   "cell_type": "code",
   "execution_count": 2,
   "metadata": {},
   "outputs": [
    {
     "name": "stdout",
     "output_type": "stream",
     "text": [
      "v procesu pridobivanja html-ja...\n",
      "stran 1\n",
      "stran 2\n",
      "v procesu pridobivanja posatkov iz htmlja v csv...\n",
      "regexanje...\n",
      "html0.html\n",
      "Končano\n"
     ]
    }
   ],
   "source": [
    "main.main(downlovdaj=True, pocsvjaj=True, od=1, do=2)"
   ]
  },
  {
   "cell_type": "code",
   "execution_count": 3,
   "metadata": {},
   "outputs": [],
   "source": [
    "mapa = mapa_slovar"
   ]
  },
  {
   "cell_type": "markdown",
   "metadata": {},
   "source": [
    "Pridobimo željene podatke. Najprej funkcija `main.main()` pridobi podatke iz interneta in jih pospravi v datoteko, shranjeni v mapi `slovar` v csv datoteki `besede.csv`. Pot do te datoteke je shranjena v spremenljivki `pot_slovar_csv` iz datoteke `spremenljivke.py`. \n",
    "Pod spremenljivko `raz` shranimo razpredelnico pridobljenih podatkov slovarja."
   ]
  },
  {
   "cell_type": "code",
   "execution_count": 4,
   "metadata": {},
   "outputs": [
    {
     "data": {
      "text/plain": [
       "ime      40\n",
       "vrsta    34\n",
       "dtype: int64"
      ]
     },
     "execution_count": 4,
     "metadata": {},
     "output_type": "execute_result"
    }
   ],
   "source": [
    "pot_slovar_csv = os.path.join(mapa, csv)\n",
    "razpredelnica = pd.read_csv(pot_slovar_csv)\n",
    "razpredelnica.count()"
   ]
  },
  {
   "cell_type": "markdown",
   "metadata": {},
   "source": [
    "Poglejmo si koliko je posamezne besedne vrste.\n",
    "\n",
    "Funkcija `štetje_stolpca` prešteje kolikokrat se vsaka različna vrednost v stolpcu ponovi ter jih uredi po padajočih vrednostih. \n",
    "To uporabimo na stolpcu `vrsta`. "
   ]
  },
  {
   "cell_type": "code",
   "execution_count": 5,
   "metadata": {},
   "outputs": [
    {
     "data": {
      "text/html": [
       "<div>\n",
       "<style scoped>\n",
       "    .dataframe tbody tr th:only-of-type {\n",
       "        vertical-align: middle;\n",
       "    }\n",
       "\n",
       "    .dataframe tbody tr th {\n",
       "        vertical-align: top;\n",
       "    }\n",
       "\n",
       "    .dataframe thead th {\n",
       "        text-align: right;\n",
       "    }\n",
       "</style>\n",
       "<table border=\"1\" class=\"dataframe\">\n",
       "  <thead>\n",
       "    <tr style=\"text-align: right;\">\n",
       "      <th></th>\n",
       "      <th>število</th>\n",
       "    </tr>\n",
       "    <tr>\n",
       "      <th>vrsta</th>\n",
       "      <th></th>\n",
       "    </tr>\n",
       "  </thead>\n",
       "  <tbody>\n",
       "    <tr>\n",
       "      <th>samostalnik moškega spola</th>\n",
       "      <td>10</td>\n",
       "    </tr>\n",
       "    <tr>\n",
       "      <th>samostalnik ženskega spola</th>\n",
       "      <td>8</td>\n",
       "    </tr>\n",
       "    <tr>\n",
       "      <th>pridevnik</th>\n",
       "      <td>7</td>\n",
       "    </tr>\n",
       "    <tr>\n",
       "      <th>samostalnik srednjega spola</th>\n",
       "      <td>3</td>\n",
       "    </tr>\n",
       "    <tr>\n",
       "      <th>členek</th>\n",
       "      <td>2</td>\n",
       "    </tr>\n",
       "    <tr>\n",
       "      <th>dovršni in nedovršni glagol</th>\n",
       "      <td>1</td>\n",
       "    </tr>\n",
       "    <tr>\n",
       "      <th>nedovršni in dovršni glagol</th>\n",
       "      <td>1</td>\n",
       "    </tr>\n",
       "    <tr>\n",
       "      <th>prislov</th>\n",
       "      <td>1</td>\n",
       "    </tr>\n",
       "    <tr>\n",
       "      <th>veznik</th>\n",
       "      <td>1</td>\n",
       "    </tr>\n",
       "  </tbody>\n",
       "</table>\n",
       "</div>"
      ],
      "text/plain": [
       "                             število\n",
       "vrsta                               \n",
       "samostalnik moškega spola         10\n",
       "samostalnik ženskega spola         8\n",
       "pridevnik                          7\n",
       "samostalnik srednjega spola        3\n",
       "členek                             2\n",
       "dovršni in nedovršni glagol        1\n",
       "nedovršni in dovršni glagol        1\n",
       "prislov                            1\n",
       "veznik                             1"
      ]
     },
     "execution_count": 5,
     "metadata": {},
     "output_type": "execute_result"
    }
   ],
   "source": [
    "def štetje_stolpca(raz, stolpec):\n",
    "    raz = raz.groupby(stolpec)[[stolpec]].count()\n",
    "    raz.rename(columns={stolpec:\"število\"}, inplace=True)\n",
    "    raz.sort_values(\"število\", inplace=True, ascending=False)\n",
    "    return raz\n",
    "\n",
    "štetje_stolpca(razpredelnica, \"vrsta\")"
   ]
  },
  {
   "cell_type": "markdown",
   "metadata": {},
   "source": [
    "To si lahko pogledamo na grafu"
   ]
  },
  {
   "cell_type": "code",
   "execution_count": 6,
   "metadata": {},
   "outputs": [
    {
     "data": {
      "text/plain": [
       "<Axes: xlabel='vrsta'>"
      ]
     },
     "execution_count": 6,
     "metadata": {},
     "output_type": "execute_result"
    },
    {
     "data": {
      "image/png": "[encoded data removed]",
      "text/plain": [
       "<Figure size 640x480 with 1 Axes>"
      ]
     },
     "metadata": {},
     "output_type": "display_data"
    }
   ],
   "source": [
    "štetje_stolpca(razpredelnica, \"vrsta\").plot.bar()"
   ]
  },
  {
   "cell_type": "markdown",
   "metadata": {},
   "source": [
    "Kot lahko vidite, to niso le besedna vrste ampak tudi dodatni podatki kot so spol in dovršnost. Zaradi teh dodatnih podatkov težje vidimo koliko je besed posamezne besedne vrste. Popravimo to. \n",
    "\n",
    "Spodnja koda doda kopiji originalne razpredelnice še eno vrstico poimenovano `\"besedna vrsta\"`, kjer je podana dejanska besedna vrsta besede."
   ]
  },
  {
   "cell_type": "code",
   "execution_count": 7,
   "metadata": {},
   "outputs": [
    {
     "data": {
      "text/html": [
       "<div>\n",
       "<style scoped>\n",
       "    .dataframe tbody tr th:only-of-type {\n",
       "        vertical-align: middle;\n",
       "    }\n",
       "\n",
       "    .dataframe tbody tr th {\n",
       "        vertical-align: top;\n",
       "    }\n",
       "\n",
       "    .dataframe thead th {\n",
       "        text-align: right;\n",
       "    }\n",
       "</style>\n",
       "<table border=\"1\" class=\"dataframe\">\n",
       "  <thead>\n",
       "    <tr style=\"text-align: right;\">\n",
       "      <th></th>\n",
       "      <th>število</th>\n",
       "    </tr>\n",
       "    <tr>\n",
       "      <th>besedna vrsta</th>\n",
       "      <th></th>\n",
       "    </tr>\n",
       "  </thead>\n",
       "  <tbody>\n",
       "    <tr>\n",
       "      <th>samostalnik</th>\n",
       "      <td>21</td>\n",
       "    </tr>\n",
       "    <tr>\n",
       "      <th>pridevnik</th>\n",
       "      <td>7</td>\n",
       "    </tr>\n",
       "    <tr>\n",
       "      <th>neznano</th>\n",
       "      <td>6</td>\n",
       "    </tr>\n",
       "    <tr>\n",
       "      <th>glagol</th>\n",
       "      <td>2</td>\n",
       "    </tr>\n",
       "    <tr>\n",
       "      <th>členek</th>\n",
       "      <td>2</td>\n",
       "    </tr>\n",
       "    <tr>\n",
       "      <th>prislov</th>\n",
       "      <td>1</td>\n",
       "    </tr>\n",
       "    <tr>\n",
       "      <th>veznik</th>\n",
       "      <td>1</td>\n",
       "    </tr>\n",
       "  </tbody>\n",
       "</table>\n",
       "</div>"
      ],
      "text/plain": [
       "               število\n",
       "besedna vrsta         \n",
       "samostalnik         21\n",
       "pridevnik            7\n",
       "neznano              6\n",
       "glagol               2\n",
       "členek               2\n",
       "prislov              1\n",
       "veznik               1"
      ]
     },
     "execution_count": 7,
     "metadata": {},
     "output_type": "execute_result"
    }
   ],
   "source": [
    "raz_vrste = razpredelnica.copy()\n",
    "for vrsta in besedne_vrste:\n",
    "    raz_vrste.loc[raz_vrste[\"vrsta\"].apply(lambda x: type(x) != float and vrsta in x), \"besedna vrsta\"] = vrsta\n",
    "raz_vrste.loc[raz_vrste[\"vrsta\"].apply(lambda x: type(x) == float), \"besedna vrsta\"] = \"neznano\"\n",
    "\n",
    "# raz_vrste[[\"ime\", \"vrsta\", \"besedna vrsta\"]].loc[raz_vrste[\"besedna vrsta\"].isna()]\n",
    "štetje_stolpca(raz_vrste, \"besedna vrsta\")"
   ]
  },
  {
   "cell_type": "markdown",
   "metadata": {},
   "source": [
    "Veliko bolje. Zdaj bo tudi graf natančnejši."
   ]
  },
  {
   "cell_type": "code",
   "execution_count": 8,
   "metadata": {},
   "outputs": [
    {
     "data": {
      "text/plain": [
       "<Axes: xlabel='besedna vrsta'>"
      ]
     },
     "execution_count": 8,
     "metadata": {},
     "output_type": "execute_result"
    },
    {
     "data": {
      "image/png": "[encoded data removed]",
      "text/plain": [
       "<Figure size 640x480 with 1 Axes>"
      ]
     },
     "metadata": {},
     "output_type": "display_data"
    }
   ],
   "source": [
    "štetje_stolpca(raz_vrste, \"besedna vrsta\").plot.bar()"
   ]
  },
  {
   "cell_type": "markdown",
   "metadata": {},
   "source": [
    "Sedaj ko smo uspeli ločiti besede na posamezne besedne vrste, lahko iščemo povprečno besedo besedne vrste.\n",
    "Povprečna beseda je tisti niz črk, za katerega velja, da je njegova dolžina toliko kolikor je povprečje dolžin besed (zaokroženo seveda na celo število) in njegova i-ta črka je tista, ki se največkrat pojavi na i-tem mestu besed. "
   ]
  },
  {
   "cell_type": "markdown",
   "metadata": {},
   "source": [
    "Funkcija `razpredelnica_vrste` vrne podtabelo željene besedne vrste. Na primer za samostalnike."
   ]
  },
  {
   "cell_type": "code",
   "execution_count": 9,
   "metadata": {},
   "outputs": [
    {
     "data": {
      "text/html": [
       "<div>\n",
       "<style scoped>\n",
       "    .dataframe tbody tr th:only-of-type {\n",
       "        vertical-align: middle;\n",
       "    }\n",
       "\n",
       "    .dataframe tbody tr th {\n",
       "        vertical-align: top;\n",
       "    }\n",
       "\n",
       "    .dataframe thead th {\n",
       "        text-align: right;\n",
       "    }\n",
       "</style>\n",
       "<table border=\"1\" class=\"dataframe\">\n",
       "  <thead>\n",
       "    <tr style=\"text-align: right;\">\n",
       "      <th></th>\n",
       "      <th>ime</th>\n",
       "      <th>vrsta</th>\n",
       "    </tr>\n",
       "  </thead>\n",
       "  <tbody>\n",
       "    <tr>\n",
       "      <th>0</th>\n",
       "      <td>á</td>\n",
       "      <td>samostalnik moškega spola</td>\n",
       "    </tr>\n",
       "    <tr>\n",
       "      <th>7</th>\n",
       "      <td>ábak</td>\n",
       "      <td>samostalnik moškega spola</td>\n",
       "    </tr>\n",
       "    <tr>\n",
       "      <th>8</th>\n",
       "      <td>abalienácija</td>\n",
       "      <td>samostalnik ženskega spola</td>\n",
       "    </tr>\n",
       "    <tr>\n",
       "      <th>10</th>\n",
       "      <td>abbé</td>\n",
       "      <td>samostalnik moškega spola</td>\n",
       "    </tr>\n",
       "    <tr>\n",
       "      <th>11</th>\n",
       "      <td>abc</td>\n",
       "      <td>samostalnik moškega spola</td>\n",
       "    </tr>\n",
       "    <tr>\n",
       "      <th>12</th>\n",
       "      <td>abderít</td>\n",
       "      <td>samostalnik moškega spola</td>\n",
       "    </tr>\n",
       "    <tr>\n",
       "      <th>14</th>\n",
       "      <td>abderítstvo</td>\n",
       "      <td>samostalnik srednjega spola</td>\n",
       "    </tr>\n",
       "    <tr>\n",
       "      <th>16</th>\n",
       "      <td>abdikácija</td>\n",
       "      <td>samostalnik ženskega spola</td>\n",
       "    </tr>\n",
       "    <tr>\n",
       "      <th>18</th>\n",
       "      <td>abdómen</td>\n",
       "      <td>samostalnik moškega spola</td>\n",
       "    </tr>\n",
       "    <tr>\n",
       "      <th>20</th>\n",
       "      <td>abdúkcija</td>\n",
       "      <td>samostalnik ženskega spola</td>\n",
       "    </tr>\n",
       "    <tr>\n",
       "      <th>22</th>\n",
       "      <td>abecéda</td>\n",
       "      <td>samostalnik ženskega spola</td>\n",
       "    </tr>\n",
       "    <tr>\n",
       "      <th>23</th>\n",
       "      <td>abecédar</td>\n",
       "      <td>samostalnik moškega spola</td>\n",
       "    </tr>\n",
       "    <tr>\n",
       "      <th>24</th>\n",
       "      <td>abecedár</td>\n",
       "      <td>samostalnik moškega spola</td>\n",
       "    </tr>\n",
       "    <tr>\n",
       "      <th>25</th>\n",
       "      <td>abecédarček</td>\n",
       "      <td>samostalnik moškega spola</td>\n",
       "    </tr>\n",
       "    <tr>\n",
       "      <th>26</th>\n",
       "      <td>abecédarica</td>\n",
       "      <td>samostalnik ženskega spola</td>\n",
       "    </tr>\n",
       "    <tr>\n",
       "      <th>28</th>\n",
       "      <td>abecédarstvo</td>\n",
       "      <td>samostalnik srednjega spola</td>\n",
       "    </tr>\n",
       "    <tr>\n",
       "      <th>31</th>\n",
       "      <td>abecédnica</td>\n",
       "      <td>samostalnik ženskega spola</td>\n",
       "    </tr>\n",
       "    <tr>\n",
       "      <th>32</th>\n",
       "      <td>abecédnik</td>\n",
       "      <td>samostalnik moškega spola</td>\n",
       "    </tr>\n",
       "    <tr>\n",
       "      <th>34</th>\n",
       "      <td>ábelstvo</td>\n",
       "      <td>samostalnik srednjega spola</td>\n",
       "    </tr>\n",
       "    <tr>\n",
       "      <th>35</th>\n",
       "      <td>aberácija</td>\n",
       "      <td>samostalnik ženskega spola</td>\n",
       "    </tr>\n",
       "    <tr>\n",
       "      <th>38</th>\n",
       "      <td>àbiogenéza</td>\n",
       "      <td>samostalnik ženskega spola</td>\n",
       "    </tr>\n",
       "  </tbody>\n",
       "</table>\n",
       "</div>"
      ],
      "text/plain": [
       "             ime                        vrsta\n",
       "0              á    samostalnik moškega spola\n",
       "7           ábak    samostalnik moškega spola\n",
       "8   abalienácija   samostalnik ženskega spola\n",
       "10          abbé    samostalnik moškega spola\n",
       "11           abc    samostalnik moškega spola\n",
       "12       abderít    samostalnik moškega spola\n",
       "14   abderítstvo  samostalnik srednjega spola\n",
       "16    abdikácija   samostalnik ženskega spola\n",
       "18       abdómen    samostalnik moškega spola\n",
       "20     abdúkcija   samostalnik ženskega spola\n",
       "22       abecéda   samostalnik ženskega spola\n",
       "23      abecédar    samostalnik moškega spola\n",
       "24      abecedár    samostalnik moškega spola\n",
       "25   abecédarček    samostalnik moškega spola\n",
       "26   abecédarica   samostalnik ženskega spola\n",
       "28  abecédarstvo  samostalnik srednjega spola\n",
       "31    abecédnica   samostalnik ženskega spola\n",
       "32     abecédnik    samostalnik moškega spola\n",
       "34      ábelstvo  samostalnik srednjega spola\n",
       "35     aberácija   samostalnik ženskega spola\n",
       "38    àbiogenéza   samostalnik ženskega spola"
      ]
     },
     "execution_count": 9,
     "metadata": {},
     "output_type": "execute_result"
    }
   ],
   "source": [
    "def razpredelnica_vrste(vrsta=\"\", raz = razpredelnica):\n",
    "    seznam = raz[\"vrsta\"].apply(lambda x: type(x) != float and vrsta in x)\n",
    "    return raz.loc[seznam]\n",
    "\n",
    "razpredelnica_samostalnikov = razpredelnica_vrste(\"samostalnik\")\n",
    "razpredelnica_samostalnikov"
   ]
  },
  {
   "cell_type": "markdown",
   "metadata": {},
   "source": [
    "Funkcija `povprečna_beseda` vrne povprečno besedo neke razpredelnice. Torej najprej najde povprečno dolžino besed, nato pa s pomočjo pomožne funkcije `črka_besede`, ki vrne črko na poljubnem mestu besede, poišče katera črka je najpogostejša na posameznem mestu."
   ]
  },
  {
   "cell_type": "code",
   "execution_count": 10,
   "metadata": {},
   "outputs": [
    {
     "data": {
      "text/plain": [
       "'abecédnr'"
      ]
     },
     "execution_count": 10,
     "metadata": {},
     "output_type": "execute_result"
    }
   ],
   "source": [
    "\n",
    "def črka_besede(i, beseda):\n",
    "    if len(beseda)<=i:\n",
    "        return \n",
    "    return beseda[i]\n",
    "\n",
    "from collections import Counter\n",
    "def povprečna_beseda(raz):\n",
    "    try:\n",
    "        dolžina = round(raz[\"ime\"].apply(len).sum()/raz[\"ime\"].count())\n",
    "    except ValueError:\n",
    "        return \"Oprosti, te besedne vrste ni v razpredelnici\"\n",
    "    odg = \"\"\n",
    "    for i in range(dolžina):\n",
    "        seznam = raz[\"ime\"].apply(lambda beseda: črka_besede(i, beseda))\n",
    "        crke = Counter(seznam).most_common() \n",
    "        if crke[0][0] == None: #Če je večina besed krajših od i\n",
    "            odg += crke[1][0]\n",
    "        else:\n",
    "            odg += crke[0][0]\n",
    "    return odg\n",
    "\n",
    "povprečna_beseda(razpredelnica_vrste(\"\"))"
   ]
  },
  {
   "cell_type": "code",
   "execution_count": 11,
   "metadata": {},
   "outputs": [
    {
     "name": "stdout",
     "output_type": "stream",
     "text": [
      "povprečna beseda: à\n",
      "potencialne povprečne besede, ki obstajajo:\n",
      "à\n"
     ]
    }
   ],
   "source": [
    "def besedičenje(raz):\n",
    "    beeeseda = povprečna_beseda(raz)\n",
    "    import re\n",
    "    seznam = re.findall(\n",
    "        r'(\\w)(?!\\1)'\n",
    "        , beeeseda, re.DOTALL\n",
    "    )\n",
    "    beseda = \"\"\n",
    "    for c in seznam:\n",
    "        beseda += c\n",
    "    if beseda in raz[\"ime\"]:\n",
    "        return beseda\n",
    "    besede = set()\n",
    "    \n",
    "    v = 3\n",
    "    for i in range(len(beseda)*v):\n",
    "        for ime in raz[\"ime\"]:\n",
    "            if (beseda in ime and len(ime) == len(beseda)+i) or( beseda[:len(beseda)-i//v] == ime) or (beseda[:len(beseda)-i//v] in ime and len(ime) == len(beseda)+i//v):\n",
    "                besede.add(ime)\n",
    "        if besede !=set():\n",
    "            break\n",
    "    \n",
    "    return besede\n",
    "\n",
    "vrsta = \"členek\"\n",
    "\n",
    "print(f\"povprečna beseda: {povprečna_beseda(razpredelnica_vrste(vrsta))}\")\n",
    "print(f\"potencialne povprečne besede, ki obstajajo:\")\n",
    "for beseda in besedičenje(razpredelnica_vrste(vrsta)):\n",
    "    print(beseda)"
   ]
  },
  {
   "cell_type": "markdown",
   "metadata": {},
   "source": [
    "Še ena zanimiva stvar za analizirati bi bila pogostost posamezne črke.\n",
    "\n",
    "Funkcija `štetje_črk` prešteje kolikokrat se ponovi posamezna črka v poljubni razpredelnici."
   ]
  },
  {
   "cell_type": "code",
   "execution_count": 12,
   "metadata": {},
   "outputs": [
    {
     "data": {
      "text/plain": [
       "9"
      ]
     },
     "execution_count": 12,
     "metadata": {},
     "output_type": "execute_result"
    }
   ],
   "source": [
    "def štetje_črk(raz, bes):\n",
    "    if bes == True:\n",
    "        st = 0\n",
    "        for ime in raz[\"ime\"]:\n",
    "            st += len(ime)\n",
    "        return st\n",
    "    if bes == False:\n",
    "        st = 0\n",
    "        for ime in raz[\"ime\"]:\n",
    "            st += sum([not c.isalpha() for c  in ime])\n",
    "        return st\n",
    "    \n",
    "    bes = bes.replace(\"a\", \"aáà\").replace(\"e\", \"eéèê\").replace(\"o\", \"oóòô\").replace(\"i\", \"iíì\")\n",
    "       \n",
    "    st = 0\n",
    "    for c in bes:\n",
    "        for ime in raz[\"ime\"]:\n",
    "            st += ime.count(c)\n",
    "    return st\n",
    "štetje_črk(razpredelnica, \"t\")"
   ]
  },
  {
   "cell_type": "markdown",
   "metadata": {},
   "source": [
    "Funkcija `razpredelnica_črk` sprejme razpredelnico ali seznam razpredelnic, ter opcijsko oznake za stolpce, in vrne tabelo, ki pove kolikokrat se v posamezni razpredelnici besed ponovi posamezna črka, ter kolikšen delež vseh črk predstavlja ta črka izražen v procentih. S tem lahko primerjamo pogostost črk med različnimi besenimi vrstami."
   ]
  },
  {
   "cell_type": "code",
   "execution_count": 13,
   "metadata": {},
   "outputs": [
    {
     "data": {
      "text/html": [
       "<div>\n",
       "<style scoped>\n",
       "    .dataframe tbody tr th:only-of-type {\n",
       "        vertical-align: middle;\n",
       "    }\n",
       "\n",
       "    .dataframe tbody tr th {\n",
       "        vertical-align: top;\n",
       "    }\n",
       "\n",
       "    .dataframe thead th {\n",
       "        text-align: right;\n",
       "    }\n",
       "</style>\n",
       "<table border=\"1\" class=\"dataframe\">\n",
       "  <thead>\n",
       "    <tr style=\"text-align: right;\">\n",
       "      <th></th>\n",
       "      <th>črka</th>\n",
       "      <th>samostalniki</th>\n",
       "      <th>samostalniki %</th>\n",
       "      <th>vse</th>\n",
       "      <th>vse %</th>\n",
       "    </tr>\n",
       "  </thead>\n",
       "  <tbody>\n",
       "    <tr>\n",
       "      <th>0</th>\n",
       "      <td>a</td>\n",
       "      <td>39</td>\n",
       "      <td>22.807</td>\n",
       "      <td>66</td>\n",
       "      <td>21.154</td>\n",
       "    </tr>\n",
       "    <tr>\n",
       "      <th>1</th>\n",
       "      <td>b</td>\n",
       "      <td>21</td>\n",
       "      <td>12.281</td>\n",
       "      <td>34</td>\n",
       "      <td>10.897</td>\n",
       "    </tr>\n",
       "    <tr>\n",
       "      <th>2</th>\n",
       "      <td>c</td>\n",
       "      <td>15</td>\n",
       "      <td>8.772</td>\n",
       "      <td>24</td>\n",
       "      <td>7.692</td>\n",
       "    </tr>\n",
       "    <tr>\n",
       "      <th>3</th>\n",
       "      <td>č</td>\n",
       "      <td>1</td>\n",
       "      <td>0.585</td>\n",
       "      <td>2</td>\n",
       "      <td>0.641</td>\n",
       "    </tr>\n",
       "    <tr>\n",
       "      <th>4</th>\n",
       "      <td>d</td>\n",
       "      <td>13</td>\n",
       "      <td>7.602</td>\n",
       "      <td>21</td>\n",
       "      <td>6.731</td>\n",
       "    </tr>\n",
       "    <tr>\n",
       "      <th>5</th>\n",
       "      <td>e</td>\n",
       "      <td>26</td>\n",
       "      <td>15.205</td>\n",
       "      <td>43</td>\n",
       "      <td>13.782</td>\n",
       "    </tr>\n",
       "    <tr>\n",
       "      <th>6</th>\n",
       "      <td>f</td>\n",
       "      <td>0</td>\n",
       "      <td>0.0</td>\n",
       "      <td>0</td>\n",
       "      <td>0.0</td>\n",
       "    </tr>\n",
       "    <tr>\n",
       "      <th>7</th>\n",
       "      <td>g</td>\n",
       "      <td>1</td>\n",
       "      <td>0.585</td>\n",
       "      <td>1</td>\n",
       "      <td>0.321</td>\n",
       "    </tr>\n",
       "    <tr>\n",
       "      <th>8</th>\n",
       "      <td>h</td>\n",
       "      <td>0</td>\n",
       "      <td>0.0</td>\n",
       "      <td>0</td>\n",
       "      <td>0.0</td>\n",
       "    </tr>\n",
       "    <tr>\n",
       "      <th>9</th>\n",
       "      <td>i</td>\n",
       "      <td>12</td>\n",
       "      <td>7.018</td>\n",
       "      <td>35</td>\n",
       "      <td>11.218</td>\n",
       "    </tr>\n",
       "    <tr>\n",
       "      <th>10</th>\n",
       "      <td>j</td>\n",
       "      <td>4</td>\n",
       "      <td>2.339</td>\n",
       "      <td>7</td>\n",
       "      <td>2.244</td>\n",
       "    </tr>\n",
       "    <tr>\n",
       "      <th>11</th>\n",
       "      <td>k</td>\n",
       "      <td>5</td>\n",
       "      <td>2.924</td>\n",
       "      <td>13</td>\n",
       "      <td>4.167</td>\n",
       "    </tr>\n",
       "    <tr>\n",
       "      <th>12</th>\n",
       "      <td>l</td>\n",
       "      <td>2</td>\n",
       "      <td>1.17</td>\n",
       "      <td>4</td>\n",
       "      <td>1.282</td>\n",
       "    </tr>\n",
       "    <tr>\n",
       "      <th>13</th>\n",
       "      <td>m</td>\n",
       "      <td>1</td>\n",
       "      <td>0.585</td>\n",
       "      <td>2</td>\n",
       "      <td>0.641</td>\n",
       "    </tr>\n",
       "    <tr>\n",
       "      <th>14</th>\n",
       "      <td>n</td>\n",
       "      <td>5</td>\n",
       "      <td>2.924</td>\n",
       "      <td>12</td>\n",
       "      <td>3.846</td>\n",
       "    </tr>\n",
       "    <tr>\n",
       "      <th>15</th>\n",
       "      <td>o</td>\n",
       "      <td>5</td>\n",
       "      <td>2.924</td>\n",
       "      <td>7</td>\n",
       "      <td>2.244</td>\n",
       "    </tr>\n",
       "    <tr>\n",
       "      <th>16</th>\n",
       "      <td>p</td>\n",
       "      <td>0</td>\n",
       "      <td>0.0</td>\n",
       "      <td>0</td>\n",
       "      <td>0.0</td>\n",
       "    </tr>\n",
       "    <tr>\n",
       "      <th>17</th>\n",
       "      <td>r</td>\n",
       "      <td>8</td>\n",
       "      <td>4.678</td>\n",
       "      <td>13</td>\n",
       "      <td>4.167</td>\n",
       "    </tr>\n",
       "    <tr>\n",
       "      <th>18</th>\n",
       "      <td>s</td>\n",
       "      <td>3</td>\n",
       "      <td>1.754</td>\n",
       "      <td>10</td>\n",
       "      <td>3.205</td>\n",
       "    </tr>\n",
       "    <tr>\n",
       "      <th>19</th>\n",
       "      <td>š</td>\n",
       "      <td>0</td>\n",
       "      <td>0.0</td>\n",
       "      <td>1</td>\n",
       "      <td>0.321</td>\n",
       "    </tr>\n",
       "    <tr>\n",
       "      <th>20</th>\n",
       "      <td>t</td>\n",
       "      <td>5</td>\n",
       "      <td>2.924</td>\n",
       "      <td>9</td>\n",
       "      <td>2.885</td>\n",
       "    </tr>\n",
       "    <tr>\n",
       "      <th>21</th>\n",
       "      <td>u</td>\n",
       "      <td>0</td>\n",
       "      <td>0.0</td>\n",
       "      <td>0</td>\n",
       "      <td>0.0</td>\n",
       "    </tr>\n",
       "    <tr>\n",
       "      <th>22</th>\n",
       "      <td>v</td>\n",
       "      <td>3</td>\n",
       "      <td>1.754</td>\n",
       "      <td>3</td>\n",
       "      <td>0.962</td>\n",
       "    </tr>\n",
       "    <tr>\n",
       "      <th>23</th>\n",
       "      <td>z</td>\n",
       "      <td>1</td>\n",
       "      <td>0.585</td>\n",
       "      <td>1</td>\n",
       "      <td>0.321</td>\n",
       "    </tr>\n",
       "    <tr>\n",
       "      <th>24</th>\n",
       "      <td>ž</td>\n",
       "      <td>0</td>\n",
       "      <td>0.0</td>\n",
       "      <td>0</td>\n",
       "      <td>0.0</td>\n",
       "    </tr>\n",
       "  </tbody>\n",
       "</table>\n",
       "</div>"
      ],
      "text/plain": [
       "   črka samostalniki samostalniki % vse   vse %\n",
       "0     a           39         22.807  66  21.154\n",
       "1     b           21         12.281  34  10.897\n",
       "2     c           15          8.772  24   7.692\n",
       "3     č            1          0.585   2   0.641\n",
       "4     d           13          7.602  21   6.731\n",
       "5     e           26         15.205  43  13.782\n",
       "6     f            0            0.0   0     0.0\n",
       "7     g            1          0.585   1   0.321\n",
       "8     h            0            0.0   0     0.0\n",
       "9     i           12          7.018  35  11.218\n",
       "10    j            4          2.339   7   2.244\n",
       "11    k            5          2.924  13   4.167\n",
       "12    l            2           1.17   4   1.282\n",
       "13    m            1          0.585   2   0.641\n",
       "14    n            5          2.924  12   3.846\n",
       "15    o            5          2.924   7   2.244\n",
       "16    p            0            0.0   0     0.0\n",
       "17    r            8          4.678  13   4.167\n",
       "18    s            3          1.754  10   3.205\n",
       "19    š            0            0.0   1   0.321\n",
       "20    t            5          2.924   9   2.885\n",
       "21    u            0            0.0   0     0.0\n",
       "22    v            3          1.754   3   0.962\n",
       "23    z            1          0.585   1   0.321\n",
       "24    ž            0            0.0   0     0.0"
      ]
     },
     "execution_count": 13,
     "metadata": {},
     "output_type": "execute_result"
    }
   ],
   "source": [
    "def razpredelnica_črk(sez_raz, oznake=None):\n",
    "    if oznake != None:\n",
    "        prave_oznake = [\"črka\"]\n",
    "        for oznaka in oznake:\n",
    "            prave_oznake.append(oznaka)\n",
    "            prave_oznake.append(oznaka+\" %\")\n",
    "    else:\n",
    "        prave_oznake = None\n",
    "    \n",
    "    if type(sez_raz) != list:\n",
    "        sez_raz = [sez_raz]\n",
    "    seznam = [list(abeceda)]\n",
    "    for raz in sez_raz:\n",
    "        štetje = []\n",
    "        procent = []\n",
    "        skupaj = sum([len(c) for c in raz[\"ime\"]])\n",
    "        for c in abeceda:\n",
    "            st = štetje_črk(raz, c)\n",
    "            štetje.append(st)\n",
    "            try:\n",
    "                procent.append(round(st/skupaj*100, 3))\n",
    "            except ZeroDivisionError:\n",
    "                procent.append(None)\n",
    "        seznam.append(štetje)\n",
    "        seznam.append(procent)\n",
    "    return pd.DataFrame(seznam, index=prave_oznake).transpose()\n",
    "\n",
    "razpredelnica_črk([razpredelnica_samostalnikov, razpredelnica], [\"samostalniki\", \"vse\"])"
   ]
  },
  {
   "cell_type": "markdown",
   "metadata": {},
   "source": [
    "Poglejmo si primerjavo števila črk med različnimi besednimi vrstami na grafu. \n",
    "\n",
    "Glede na podatke bi bilo primernejše uporabiti stolpični diagram za prikaz, vendar sem se odličila, da so podatki lažje razvidni iz črtnega diagrama."
   ]
  },
  {
   "cell_type": "code",
   "execution_count": 14,
   "metadata": {},
   "outputs": [
    {
     "data": {
      "image/png": "[encoded data removed]",
      "text/plain": [
       "<Figure size 1500x500 with 1 Axes>"
      ]
     },
     "metadata": {},
     "output_type": "display_data"
    }
   ],
   "source": [
    "graf = razpredelnica_črk([razpredelnica]+[razpredelnica_vrste(vrsta) for vrsta in besedne_vrste], oznake=[\"vse\"]+besedne_vrste)[[\"vse\"]+besedne_vrste].plot.line(figsize=(15, 5))\n",
    "graf.set_xticks(range(len(abeceda)));\n",
    "graf.set_xticklabels(list(abeceda));"
   ]
  },
  {
   "cell_type": "markdown",
   "metadata": {},
   "source": [
    "Najbrž nam bo graf pogostosti črk povedal več."
   ]
  },
  {
   "cell_type": "code",
   "execution_count": 15,
   "metadata": {},
   "outputs": [
    {
     "data": {
      "image/png": "[encoded data removed]",
      "text/plain": [
       "<Figure size 1500x500 with 1 Axes>"
      ]
     },
     "metadata": {},
     "output_type": "display_data"
    }
   ],
   "source": [
    "graf = razpredelnica_črk([razpredelnica_vrste(vrsta) for vrsta in besedne_vrste], oznake=besedne_vrste)[map(lambda x: x+\" %\", besedne_vrste)].plot.bar(figsize=(15, 5))\n",
    "graf.set_xticks(range(len(abeceda)));\n",
    "graf.set_xticklabels(list(abeceda));"
   ]
  }
 ],
 "metadata": {
  "kernelspec": {
   "display_name": "Python 3",
   "language": "python",
   "name": "python3"
  },
  "language_info": {
   "codemirror_mode": {
    "name": "ipython",
    "version": 3
   },
   "file_extension": ".py",
   "mimetype": "text/x-python",
   "name": "python",
   "nbconvert_exporter": "python",
   "pygments_lexer": "ipython3",
   "version": "3.12.4"
  }
 },
 "nbformat": 4,
 "nbformat_minor": 2
}
